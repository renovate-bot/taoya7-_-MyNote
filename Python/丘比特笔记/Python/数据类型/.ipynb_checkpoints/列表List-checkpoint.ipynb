{
 "cells": [
  {
   "cell_type": "markdown",
   "metadata": {},
   "source": [
    "# 列表\n",
    "\n",
    "\n",
    "列表是可变的，即可以修改其内容\n"
   ]
  },
  {
   "cell_type": "markdown",
   "metadata": {},
   "source": [
    "**创建列表**\n",
    "\n",
    "- 常规\n",
    "- 列表生成式\n",
    "- 列表推导式"
   ]
  },
  {
   "cell_type": "code",
   "execution_count": 52,
   "metadata": {},
   "outputs": [
    {
     "name": "stdout",
     "output_type": "stream",
     "text": [
      "[1, 2, 3, 4]\n",
      "[2, 4, 6, 8]\n",
      "1\t3\t5\t7\t9\t"
     ]
    }
   ],
   "source": [
    "# 方式一\n",
    "nums = [1,2,3,4]\n",
    "print(nums)\n",
    "\n",
    "#方式二\n",
    "nums = [2*x for x in nums] #对于列表nums中的值，每个元素都*2\n",
    "print(nums)\n",
    "\n",
    "#方式三\n",
    "for i in range(1,10,2):\n",
    "    print(i, end=\"\\t\")\n"
   ]
  },
  {
   "cell_type": "markdown",
   "metadata": {},
   "source": [
    "**切片**\n",
    "\n",
    "除了可以用索引来访问单个元素，还可以用切片（Slicing）来访问特定范围内的元素。\n",
    "\n",
    "> 注意:\n",
    "\n",
    "- 切片的范围[start:end)\n",
    "- 允许负数为索引，代表的是最后一个元素\n",
    "- 切片并不改变原列表的值"
   ]
  },
  {
   "cell_type": "code",
   "execution_count": 20,
   "metadata": {
    "scrolled": false
   },
   "outputs": [
    {
     "name": "stdout",
     "output_type": "stream",
     "text": [
      "[1, 2]\n",
      "[10, 9, 8, 7, 6, 5, 4, 3, 2, 1]\n",
      "[8, 9, 10]\n",
      "[1, 2, 3, 4, 5, 6, 7, 8, 9, 10]\n"
     ]
    }
   ],
   "source": [
    "nums = [1,2,3,4,5,6,7,8,9,10]\n",
    "print(nums[0:2])\n",
    "\n",
    "print(nums[::-1]) #逆序输出列表\n",
    "print(nums[-3:]) #打印最后三个元素 \n",
    "print(nums)"
   ]
  },
  {
   "cell_type": "markdown",
   "metadata": {},
   "source": [
    "> 步长\n",
    "\n",
    "`[start,end,step]`"
   ]
  },
  {
   "cell_type": "code",
   "execution_count": 19,
   "metadata": {},
   "outputs": [
    {
     "name": "stdout",
     "output_type": "stream",
     "text": [
      "[1, 2, 3, 4, 5, 6, 7, 8, 9, 10]\n",
      "[1, 3, 5, 7, 9]\n"
     ]
    }
   ],
   "source": [
    "nums = [1,2,3,4,5,6,7,8,9,10]\n",
    "print(nums)\n",
    "print(nums[::2]) #每隔2个元素提取1个"
   ]
  },
  {
   "cell_type": "markdown",
   "metadata": {},
   "source": [
    "> 序列相加\n",
    "\n"
   ]
  },
  {
   "cell_type": "code",
   "execution_count": 25,
   "metadata": {},
   "outputs": [
    {
     "name": "stdout",
     "output_type": "stream",
     "text": [
      "[1, 2, 3, 4, 5, 6]\n"
     ]
    }
   ],
   "source": [
    "a = [1,2,3]\n",
    "b = [4,5,6]\n",
    "a+b\n",
    "print(a+b)"
   ]
  },
  {
   "cell_type": "markdown",
   "metadata": {},
   "source": [
    "> 序列相乘"
   ]
  },
  {
   "cell_type": "code",
   "execution_count": 27,
   "metadata": {},
   "outputs": [
    {
     "data": {
      "text/plain": [
       "[1, 2, 3, 1, 2, 3, 1, 2, 3]"
      ]
     },
     "execution_count": 27,
     "metadata": {},
     "output_type": "execute_result"
    }
   ],
   "source": [
    "a = [1,2,3]\n",
    "a*3"
   ]
  },
  {
   "cell_type": "markdown",
   "metadata": {},
   "source": [
    "> 成员资格\n",
    "\n",
    "检查特定的值时候包含在序列中，使用运算符in"
   ]
  },
  {
   "cell_type": "code",
   "execution_count": 77,
   "metadata": {},
   "outputs": [
    {
     "name": "stdout",
     "output_type": "stream",
     "text": [
      "False\n",
      "True\n",
      "True\n"
     ]
    }
   ],
   "source": [
    "nums = ['a','b','c']\n",
    "print('d' in nums)\n",
    "print('a' in nums)\n",
    "\n",
    "print('hh' not in nums)"
   ]
  },
  {
   "cell_type": "markdown",
   "metadata": {},
   "source": [
    "## 一些常用的操作\n",
    "\n",
    "- 添加\n",
    "- 删除\n",
    "- 修改\n",
    "- 删除"
   ]
  },
  {
   "cell_type": "markdown",
   "metadata": {},
   "source": [
    "> #### 添加"
   ]
  },
  {
   "cell_type": "code",
   "execution_count": 34,
   "metadata": {},
   "outputs": [
    {
     "name": "stdout",
     "output_type": "stream",
     "text": [
      "[1, 2]\n"
     ]
    }
   ],
   "source": [
    "\"\"\"\n",
    "append() \n",
    "\n",
    "在列表中追加一个新的元素。\n",
    "\n",
    "参数：\n",
    "    object \n",
    "返回值：\n",
    "    None\n",
    "注意：\n",
    "    会修改原列表\n",
    "\"\"\"\n",
    "\n",
    "nums = []\n",
    "nums.append(1)\n",
    "nums.append(2)\n",
    "print(nums)"
   ]
  },
  {
   "cell_type": "code",
   "execution_count": 37,
   "metadata": {},
   "outputs": [
    {
     "name": "stdout",
     "output_type": "stream",
     "text": [
      "[1, 2, 3, 'Yo!', 4, 5]\n"
     ]
    }
   ],
   "source": [
    "\"\"\"\n",
    "insert() \n",
    "\n",
    "往列表中，追加一个新的元素\n",
    "\n",
    "参数：\n",
    "    index 索引，插入到这个索引之前\n",
    "    object 想要添加的元素\n",
    "返回值：\n",
    "    None\n",
    "注意：\n",
    "    会修改原数组\n",
    "\"\"\"\n",
    "\n",
    "nums = [1,2,3,4,5]\n",
    "nums.insert(3,\"Yo!\")\n",
    "print(nums)"
   ]
  },
  {
   "cell_type": "code",
   "execution_count": 41,
   "metadata": {},
   "outputs": [
    {
     "name": "stdout",
     "output_type": "stream",
     "text": [
      "[1, 2, 3, 4, 5, 6, [4, 5, 6]] [4, 5, 6]\n",
      "[1, 2, 3, 4, 5, 6, [4, 5, 6]] [4, 5, 6]\n"
     ]
    }
   ],
   "source": [
    "\"\"\"\n",
    "extend()\n",
    "\n",
    "往列表中，扩展一个可迭代序列\n",
    "\n",
    "参数：\n",
    "    iterable 可迭代集合\n",
    "        - 字符串\n",
    "        - 列表\n",
    "        - 元祖\n",
    "返回值：\n",
    "    None\n",
    "注意：\n",
    "    会修改原数组\n",
    "    与append的区别：extend算是把两个集合的拼接，append是把一个元素，追加到一个集合中\n",
    "\"\"\"\n",
    "\n",
    "a = [1,2,3]\n",
    "b = [4,5,6]\n",
    "a.extend(b)\n",
    "a.append(b)\n",
    "print(a,b)\n",
    "print(a,b)\n"
   ]
  },
  {
   "cell_type": "markdown",
   "metadata": {},
   "source": [
    "> #### 删除"
   ]
  },
  {
   "cell_type": "code",
   "execution_count": 55,
   "metadata": {},
   "outputs": [
    {
     "name": "stdout",
     "output_type": "stream",
     "text": [
      "[1, 2, 3] 4\n"
     ]
    }
   ],
   "source": [
    "\"\"\"\n",
    "pop()\n",
    "\n",
    "移除并返回列表中指定索引对应的元素\n",
    "\n",
    "参数：\n",
    "    需要删除返回的元素的索引 默认是-1\n",
    "返回值：\n",
    "    被删除的元素\n",
    "注意：\n",
    "    会修改原数组\n",
    "    注意索引越界\n",
    "\"\"\"\n",
    "nums = [1,2,3,4]\n",
    "a = nums.pop()\n",
    "print(nums,a)"
   ]
  },
  {
   "cell_type": "code",
   "execution_count": 60,
   "metadata": {
    "scrolled": true
   },
   "outputs": [
    {
     "name": "stdout",
     "output_type": "stream",
     "text": [
      "['banana', 'pear']\n"
     ]
    }
   ],
   "source": [
    "\"\"\"\n",
    "remove()\n",
    "移除列表中指定元素\n",
    "\"\"\"\n",
    "fruit = ['banana','apple','pear']\n",
    "fruit.remove('apple')\n",
    "print(fruit)"
   ]
  },
  {
   "cell_type": "code",
   "execution_count": 96,
   "metadata": {},
   "outputs": [],
   "source": [
    "\"\"\"\n",
    "del()\n",
    "删除一个指定元素，也可以删除整个列表\n",
    "\"\"\"\n",
    "\n",
    "nums = [1,2,3,4]\n",
    "del(nums[1])\n",
    "del(nums)\n",
    "# print(nums) #报错"
   ]
  },
  {
   "cell_type": "code",
   "execution_count": 97,
   "metadata": {},
   "outputs": [
    {
     "name": "stdout",
     "output_type": "stream",
     "text": [
      "[]\n"
     ]
    }
   ],
   "source": [
    "\"\"\"\n",
    "clear()\n",
    "清空列表的内容\n",
    "\"\"\"\n",
    "\n",
    "nums = [1,2,3,5]\n",
    "nums.clear()\n",
    "print(nums)"
   ]
  },
  {
   "cell_type": "markdown",
   "metadata": {},
   "source": [
    "> #### 修改"
   ]
  },
  {
   "cell_type": "code",
   "execution_count": 72,
   "metadata": {},
   "outputs": [
    {
     "name": "stdout",
     "output_type": "stream",
     "text": [
      "[1, 2, 666]\n"
     ]
    }
   ],
   "source": [
    "nums = [1,2,3]\n",
    "nums[2] = 666\n",
    "print(nums)"
   ]
  },
  {
   "cell_type": "markdown",
   "metadata": {},
   "source": [
    "> #### 查"
   ]
  },
  {
   "cell_type": "code",
   "execution_count": 78,
   "metadata": {},
   "outputs": [
    {
     "name": "stdout",
     "output_type": "stream",
     "text": [
      "2\n",
      "3\n",
      "1\n"
     ]
    }
   ],
   "source": [
    "nums = [1,2,3,4]\n",
    "print(nums.index(3)) #返回索引\n",
    "print(nums[2]) #返回数值\n",
    "print(nums.count(3)) #返回个数"
   ]
  },
  {
   "cell_type": "markdown",
   "metadata": {},
   "source": [
    "> #### 其他\n",
    "\n",
    "- 排序"
   ]
  },
  {
   "cell_type": "code",
   "execution_count": 82,
   "metadata": {},
   "outputs": [
    {
     "name": "stdout",
     "output_type": "stream",
     "text": [
      "[1, 2, 5, 8, 9]\n"
     ]
    }
   ],
   "source": [
    "\"\"\"\n",
    "sort(key=None, reverse=False)\n",
    "\"\"\"\n",
    "nums  = [5,2,1,8,9]\n",
    "nums.sort()\n",
    "print(nums)"
   ]
  },
  {
   "cell_type": "code",
   "execution_count": 88,
   "metadata": {},
   "outputs": [
    {
     "name": "stdout",
     "output_type": "stream",
     "text": [
      "[1, 2, 5, 8, 9]\n"
     ]
    }
   ],
   "source": [
    "\"\"\"\n",
    "sorted(itrearble, key=None, reverse=False)\n",
    "\"\"\"\n",
    "\n",
    "nums = [5,2,1,8,9]\n",
    "a = sorted(nums) #临时排序\n",
    "print(a)\n"
   ]
  },
  {
   "cell_type": "markdown",
   "metadata": {},
   "source": [
    "- 打乱顺序"
   ]
  },
  {
   "cell_type": "code",
   "execution_count": 90,
   "metadata": {},
   "outputs": [
    {
     "name": "stdout",
     "output_type": "stream",
     "text": [
      "[3, 4, 1, 2]\n"
     ]
    }
   ],
   "source": [
    "nums = [1,2,3,4]\n",
    "\n",
    "import random\n",
    "random.shuffle(nums)\n",
    "print(nums)"
   ]
  },
  {
   "cell_type": "markdown",
   "metadata": {},
   "source": [
    "- 反转列表\n",
    "    - 切片反转\n",
    "    - `reverse()`"
   ]
  },
  {
   "cell_type": "code",
   "execution_count": 94,
   "metadata": {},
   "outputs": [
    {
     "name": "stdout",
     "output_type": "stream",
     "text": [
      "[4, 3, 2, 1]\n"
     ]
    }
   ],
   "source": [
    "nums = [1,2,3,4]\n",
    "nums.reverse()\n",
    "print(nums)"
   ]
  },
  {
   "cell_type": "code",
   "execution_count": 95,
   "metadata": {},
   "outputs": [
    {
     "name": "stdout",
     "output_type": "stream",
     "text": [
      "[4, 3, 2, 1]\n"
     ]
    }
   ],
   "source": [
    "nums = [1,2,3,4]\n",
    "print(nums[::-1])"
   ]
  }
 ],
 "metadata": {
  "kernelspec": {
   "display_name": "Python 3",
   "language": "python",
   "name": "python3"
  },
  "language_info": {
   "codemirror_mode": {
    "name": "ipython",
    "version": 3
   },
   "file_extension": ".py",
   "mimetype": "text/x-python",
   "name": "python",
   "nbconvert_exporter": "python",
   "pygments_lexer": "ipython3",
   "version": "3.7.1"
  }
 },
 "nbformat": 4,
 "nbformat_minor": 2
}
