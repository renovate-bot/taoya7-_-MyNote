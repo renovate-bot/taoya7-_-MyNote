{
 "cells": [
  {
   "cell_type": "markdown",
   "metadata": {},
   "source": [
    "# 字符串\n",
    "\n",
    "由单个字符组成的一个集合\n",
    "\n",
    "\n",
    "**表现形式**\n",
    "- 单引号\n",
    "- 双引号\n",
    "- 三引号\n",
    "- 原始字符串"
   ]
  },
  {
   "cell_type": "code",
   "execution_count": 4,
   "metadata": {},
   "outputs": [
    {
     "name": "stdout",
     "output_type": "stream",
     "text": [
      "Hello\n",
      "Friend!\n",
      "Y\\n666\n",
      "\\n\\r\\p\n"
     ]
    }
   ],
   "source": [
    "print('Hello')\n",
    "print(\"Friend!\")\n",
    "print(r'Y\\n666')\n",
    "print(r\"\\n\\r\\p\")"
   ]
  },
  {
   "cell_type": "markdown",
   "metadata": {},
   "source": [
    "**一般操作**\n",
    "\n",
    "- 字符串拼接\n",
    "- 字符串切片"
   ]
  },
  {
   "cell_type": "code",
   "execution_count": 16,
   "metadata": {},
   "outputs": [
    {
     "name": "stdout",
     "output_type": "stream",
     "text": [
      "Hello Friend\n",
      "Nick!\n",
      "        56\n",
      "3.14\n",
      "Jack Jack Jack Jack Jack Jack Jack Jack Jack Jack \n",
      "How much noodles do you have? \n",
      " I need 50 \n"
     ]
    }
   ],
   "source": [
    "#Way1\n",
    "a = \"Hello \"\n",
    "b = \"Friend\"\n",
    "print(a+b)\n",
    "\n",
    "#Way2\n",
    "\"Hello \"\"Friend\"\n",
    "\n",
    "#Way3\n",
    "print(\"%s\"%(\"Nick!\"))\n",
    "print(\"%10d\"%56)\n",
    "print(\"%.2f\"%3.1415)\n",
    "\n",
    "#Way4\n",
    "print('Jack '*10)\n",
    "\n",
    "#Way5\n",
    "a = \"How\"\n",
    "b = 50\n",
    "print(\"{} much noodles do you have? \\n I need {} \".format(a,b))"
   ]
  },
  {
   "cell_type": "code",
   "execution_count": 19,
   "metadata": {},
   "outputs": [
    {
     "name": "stdout",
     "output_type": "stream",
     "text": [
      "019876543210\n",
      "024681\n"
     ]
    }
   ],
   "source": [
    "str = \"012345678910\"\n",
    "\n",
    "print(str[::-1])\n",
    "\n",
    "print(str[::2])"
   ]
  },
  {
   "cell_type": "markdown",
   "metadata": {},
   "source": [
    "**字符串函数**\n",
    "\n",
    "- 查找\n",
    "- 转换\n",
    "- 填充\n",
    "- 分割\n",
    "- 判定"
   ]
  },
  {
   "cell_type": "code",
   "execution_count": 35,
   "metadata": {},
   "outputs": [
    {
     "name": "stdout",
     "output_type": "stream",
     "text": [
      "4\n",
      ">>> 2\n"
     ]
    }
   ],
   "source": [
    "\"\"\"\n",
    "len()\n",
    "计算字符串字符的个数\n",
    "\"\"\"\n",
    "str = \"1112\"\n",
    "print(len(str))\n",
    "\n",
    "\"\"\"\n",
    "find()\n",
    "查找子串索引的位置\n",
    "\n",
    "参数：\n",
    "    1. 需要检索的字符串\n",
    "    2. 检索的起始位置\n",
    "    3. 检索的结束位置\n",
    "    \n",
    "返回值\n",
    "    1. 找到了 指定索引\n",
    "    2. 找不到 -1\n",
    "\"\"\"\n",
    "str = \"3586\"\n",
    "str.find(\"6\",0,len(str))\n",
    "\n",
    "\"\"\"\n",
    "rfind()\n",
    "同find()一样 方向不一样\n",
    "\"\"\"\n",
    "\n",
    "\"\"\"\n",
    "index()\n",
    "rindex()\n",
    "获取子串索引位置\n",
    "\n",
    "返回值：\n",
    "    1. 找到了指定索引\n",
    "    2. 找不到异常\n",
    "\"\"\"\n",
    "\n",
    "\"\"\"\n",
    "count()\n",
    "计算某个字符串出现的个数\n",
    "\n",
    "参数：\n",
    "    1. 检索的字符串\n",
    "    2. 起始位置\n",
    "    3. 结束位置\n",
    "\"\"\"\n",
    "str = \"12355\"\n",
    "print(\">>>\" , str.count('5'))\n",
    "\n",
    "\n"
   ]
  },
  {
   "cell_type": "code",
   "execution_count": 38,
   "metadata": {},
   "outputs": [
    {
     "name": "stdout",
     "output_type": "stream",
     "text": [
      "YY233\n"
     ]
    }
   ],
   "source": [
    "#转换\n",
    "\"\"\"\n",
    "replace()\n",
    "字符串替换\n",
    "\n",
    "参数：\n",
    "    1. 需要被替换的旧的字符串\n",
    "    2. 新的字符串\n",
    "    3， 替换的个数。默认是全部\n",
    "返回值：\n",
    "    替换后的新字符串\n",
    "\"\"\"\n",
    "str = \"11233\"\n",
    "res = str.replace('1','Y')\n",
    "print(res)"
   ]
  },
  {
   "cell_type": "code",
   "execution_count": 45,
   "metadata": {},
   "outputs": [
    {
     "name": "stdout",
     "output_type": "stream",
     "text": [
      "Abc-Cde\n"
     ]
    }
   ],
   "source": [
    "#转换\n",
    "\n",
    "\"\"\"\n",
    "capitalize()\n",
    "首字母大写\n",
    "\n",
    "title()\n",
    "每个单词的首字母大写\n",
    "\n",
    "\n",
    "lower()\n",
    "将字符串每个字符都变为小写\n",
    "\n",
    "upper()\n",
    "将字符串每个字符都变为大写\n",
    "\n",
    "\"\"\"\n",
    "\n",
    "str = \"abc-cde\"\n",
    "print(str.title())"
   ]
  },
  {
   "cell_type": "code",
   "execution_count": 54,
   "metadata": {
    "scrolled": true
   },
   "outputs": [
    {
     "name": "stdout",
     "output_type": "stream",
     "text": [
      "1,2,3,4,5 ['1', '2', '3', '4', '5']\n",
      "('1', ',', '2,3,4')\n"
     ]
    }
   ],
   "source": [
    "# 分割\n",
    "\"\"\"\n",
    "split(sep)\n",
    "将一个大的字符串分割成几个子字符串\n",
    "\n",
    "partition()\n",
    "rpartition()\n",
    "根据指定的分隔符, 返回(分隔符左侧内容, 分隔符, 分隔符右侧内容)\n",
    "\"\"\"\n",
    "str = \"1,2,3,4,5\"\n",
    "list = str.split(',')\n",
    "print(str, list)\n",
    "\n",
    "str = \"1,2,3,4\"\n",
    "list = str.partition(',')\n",
    "print(list)"
   ]
  },
  {
   "cell_type": "code",
   "execution_count": 61,
   "metadata": {},
   "outputs": [
    {
     "name": "stdout",
     "output_type": "stream",
     "text": [
      ".You.You.\n"
     ]
    }
   ],
   "source": [
    "\"\"\"\n",
    "Join()\n",
    "根据指定字符串, 将给定的可迭代对象, 进行拼接, 得到拼接后的字符串\n",
    "\"\"\"\n",
    "\n",
    "a = \"66\"\n",
    "print('You'.join('...'))"
   ]
  },
  {
   "cell_type": "code",
   "execution_count": 70,
   "metadata": {},
   "outputs": [
    {
     "name": "stdout",
     "output_type": "stream",
     "text": [
      "True\n",
      "True\n",
      "True\n"
     ]
    },
    {
     "data": {
      "text/plain": [
       "'\\nendswith\\n判定一个字符串是否以某个前缀结束\\n'"
      ]
     },
     "execution_count": 70,
     "metadata": {},
     "output_type": "execute_result"
    }
   ],
   "source": [
    "#判定\n",
    "\n",
    "\"\"\"\n",
    "isalpha\n",
    "字符串中是否所有的字符都是字母\n",
    "\"\"\"\n",
    "print(\"abc\".isalpha())\n",
    "\n",
    "\"\"\"\n",
    "isdigit()\n",
    "是否全是数字\n",
    "\"\"\"\n",
    "print('123'.isdigit())\n",
    "\n",
    "\"\"\"\n",
    "isalnum()\n",
    "字符串中是否所有的字符都是数字或者字母\n",
    "\"\"\"\n",
    "\n",
    "\"\"\"\n",
    "isspace()\n",
    "字符串中是否所有的字符都是空白符\n",
    "\"\"\"\n",
    "print(\" \".isspace())\n",
    "\n",
    "\"\"\"\n",
    "startswith()\n",
    "判定一个字符串是否以某个前缀开头\n",
    "\"\"\"\n",
    "\"\"\"\n",
    "endswith\n",
    "判定一个字符串是否以某个前缀结束\n",
    "\"\"\"\n"
   ]
  },
  {
   "cell_type": "markdown",
   "metadata": {},
   "source": [
    "**补充**"
   ]
  },
  {
   "cell_type": "code",
   "execution_count": 77,
   "metadata": {},
   "outputs": [
    {
     "data": {
      "text/plain": [
       "True"
      ]
     },
     "execution_count": 77,
     "metadata": {},
     "output_type": "execute_result"
    }
   ],
   "source": [
    "fa = \"abcd\"\n",
    "\n",
    "'bc' in fa\n",
    "'12' not in fa\n"
   ]
  }
 ],
 "metadata": {
  "kernelspec": {
   "display_name": "Python 3",
   "language": "python",
   "name": "python3"
  },
  "language_info": {
   "codemirror_mode": {
    "name": "ipython",
    "version": 3
   },
   "file_extension": ".py",
   "mimetype": "text/x-python",
   "name": "python",
   "nbconvert_exporter": "python",
   "pygments_lexer": "ipython3",
   "version": "3.7.1"
  }
 },
 "nbformat": 4,
 "nbformat_minor": 2
}
