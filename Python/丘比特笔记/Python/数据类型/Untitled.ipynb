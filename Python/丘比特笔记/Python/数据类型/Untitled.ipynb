{
 "cells": [
  {
   "cell_type": "code",
   "execution_count": 5,
   "metadata": {},
   "outputs": [
    {
     "name": "stdout",
     "output_type": "stream",
     "text": [
      "0b10000\n",
      "0o3743\n",
      "0x10\n"
     ]
    }
   ],
   "source": [
    "\n",
    "\n",
    "print(bin(16))\n",
    "\n",
    "print(oct(2019))\n",
    "\n",
    "print(hex(16))"
   ]
  },
  {
   "cell_type": "code",
   "execution_count": 22,
   "metadata": {},
   "outputs": [
    {
     "name": "stdout",
     "output_type": "stream",
     "text": [
      "He is Jack is 18 age!\n"
     ]
    }
   ],
   "source": [
    "\n",
    "name = \"Jack\"\n",
    "age = 18.032323\n",
    "\n",
    "print(\"He is %s is %2.1d age!\"%(name, age))"
   ]
  },
  {
   "cell_type": "code",
   "execution_count": 28,
   "metadata": {},
   "outputs": [
    {
     "name": "stdout",
     "output_type": "stream",
     "text": [
      "5\n"
     ]
    }
   ],
   "source": [
    "# 计算字符串的长度\n",
    "\n",
    "print(len(\"Hello\"))"
   ]
  }
 ],
 "metadata": {
  "kernelspec": {
   "display_name": "Python 3",
   "language": "python",
   "name": "python3"
  },
  "language_info": {
   "codemirror_mode": {
    "name": "ipython",
    "version": 3
   },
   "file_extension": ".py",
   "mimetype": "text/x-python",
   "name": "python",
   "nbconvert_exporter": "python",
   "pygments_lexer": "ipython3",
   "version": "3.7.3"
  }
 },
 "nbformat": 4,
 "nbformat_minor": 2
}
