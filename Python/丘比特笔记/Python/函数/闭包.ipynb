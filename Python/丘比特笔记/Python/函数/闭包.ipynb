{
 "cells": [
  {
   "cell_type": "markdown",
   "metadata": {},
   "source": [
    "# 闭包\n",
    "\n",
    "在函数嵌套的前提下，内层函数引用外层函数的变量(包括参数)。外层函数，又把内层函数 当作返回值进行返回\n",
    "\n"
   ]
  },
  {
   "cell_type": "code",
   "execution_count": 15,
   "metadata": {},
   "outputs": [
    {
     "name": "stdout",
     "output_type": "stream",
     "text": [
      "2\n"
     ]
    }
   ],
   "source": [
    "def out():\n",
    "    num = 10\n",
    "    def iner():\n",
    "        num = 2\n",
    "        print(num)\n",
    "    return iner\n",
    "\n",
    "newF = out()\n",
    "newF()"
   ]
  },
  {
   "cell_type": "markdown",
   "metadata": {},
   "source": [
    "**应用场景**\n",
    "\n",
    "需要打印这些字符。使用闭包很少的减少输入参数的次数"
   ]
  },
  {
   "cell_type": "code",
   "execution_count": 39,
   "metadata": {},
   "outputs": [
    {
     "name": "stdout",
     "output_type": "stream",
     "text": [
      "********************Show********************\n",
      "********************Show********************\n",
      "********************Show********************\n"
     ]
    }
   ],
   "source": [
    "def out(content, length):\n",
    "    print('*'*(length//2) +content +'*'*(length//2) )\n",
    "    \n",
    "out(\"Show\",40)\n",
    "out(\"Show\",40)\n",
    "out(\"Show\",40)"
   ]
  },
  {
   "cell_type": "code",
   "execution_count": 40,
   "metadata": {},
   "outputs": [
    {
     "name": "stdout",
     "output_type": "stream",
     "text": [
      "******************************Show******************************\n",
      "******************************Show******************************\n",
      "******************************Show******************************\n",
      "******************************Show******************************\n"
     ]
    }
   ],
   "source": [
    "def out(content, length):\n",
    "    def inner():\n",
    "        print('*'*(length//2) +content +'*'*(length//2) )\n",
    "    return inner\n",
    "    \n",
    "res = out('Show',60)\n",
    "\n",
    "res()\n",
    "res()\n",
    "res()\n",
    "res()"
   ]
  },
  {
   "cell_type": "markdown",
   "metadata": {},
   "source": [
    "**注意**\n",
    "\n",
    "- nonlocal修改作用域"
   ]
  },
  {
   "cell_type": "code",
   "execution_count": 71,
   "metadata": {},
   "outputs": [
    {
     "name": "stdout",
     "output_type": "stream",
     "text": [
      "Ou> 10\n",
      "In> 6\n",
      "Ou> 10\n",
      "------------------------------------------------------------\n",
      "Ou> 10\n",
      "in> 6\n",
      "Ou> 6\n"
     ]
    }
   ],
   "source": [
    "def out():\n",
    "    num = 10\n",
    "    def inner():\n",
    "        num = 6\n",
    "        print(\"In>\",num)\n",
    "    print(\"Ou>\",num)#10\n",
    "    inner() #6\n",
    "    print(\"Ou>\",num)#10\n",
    "    return inner\n",
    "        \n",
    "wa = out()\n",
    "\n",
    "\n",
    "\n",
    "print('-'*60)\n",
    "\n",
    "def out():\n",
    "    num = 10\n",
    "    def inner():\n",
    "        nonlocal num\n",
    "        num = 6\n",
    "        print(\"in>\",num)\n",
    "    print(\"Ou>\",num) #10\n",
    "    inner() #6\n",
    "    print(\"Ou>\",num) #6\n",
    "    return inner\n",
    "\n",
    "wa = out()\n",
    "\n"
   ]
  },
  {
   "cell_type": "markdown",
   "metadata": {},
   "source": [
    "- \n",
    "\n",
    "函数什么时候才会确定内部变量标识。\n",
    "\n",
    "当函数调用的时候，才会真正的确定对应的值。"
   ]
  },
  {
   "cell_type": "code",
   "execution_count": 72,
   "metadata": {},
   "outputs": [
    {
     "name": "stdout",
     "output_type": "stream",
     "text": [
      "10\n"
     ]
    }
   ],
   "source": [
    "def out():\n",
    "    num = 5\n",
    "    def inner():\n",
    "        print(num)\n",
    "    num = 10\n",
    "    return inner\n",
    "\n",
    "tep = out()\n",
    "tep()"
   ]
  }
 ],
 "metadata": {
  "kernelspec": {
   "display_name": "Python 3",
   "language": "python",
   "name": "python3"
  },
  "language_info": {
   "codemirror_mode": {
    "name": "ipython",
    "version": 3
   },
   "file_extension": ".py",
   "mimetype": "text/x-python",
   "name": "python",
   "nbconvert_exporter": "python",
   "pygments_lexer": "ipython3",
   "version": "3.7.3"
  }
 },
 "nbformat": 4,
 "nbformat_minor": 2
}
