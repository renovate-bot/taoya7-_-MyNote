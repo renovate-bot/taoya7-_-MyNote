{
 "cells": [
  {
   "cell_type": "markdown",
   "metadata": {},
   "source": [
    "#### 函数的描述"
   ]
  },
  {
   "cell_type": "code",
   "execution_count": 4,
   "metadata": {
    "scrolled": true
   },
   "outputs": [
    {
     "name": "stdout",
     "output_type": "stream",
     "text": [
      "Help on function add in module __main__:\n",
      "\n",
      "add(x, y)\n",
      "    这是一个求和函数\n",
      "\n"
     ]
    }
   ],
   "source": [
    "def add(x,y):\n",
    "    \"\"\"\n",
    "    这是一个求和函数\n",
    "    \"\"\"\n",
    "    print(x+y)\n",
    "\n",
    "help(add)"
   ]
  },
  {
   "cell_type": "markdown",
   "metadata": {},
   "source": [
    "**偏函数**\n",
    "\n",
    "当我们写一个参数比较多的函数时，如果有些参数，大部分场景下都是一个固定值，那么为了简化使用，就可以创建一个新函数，指定我们要使用的函数的某个参数，为某个固定的值，这个函数就是偏函数"
   ]
  },
  {
   "cell_type": "code",
   "execution_count": 13,
   "metadata": {},
   "outputs": [
    {
     "name": "stdout",
     "output_type": "stream",
     "text": [
      "10\n",
      "14\n"
     ]
    }
   ],
   "source": [
    "def test1(a,b=3,c=2,d=1):\n",
    "    print(a+b+c+d)\n",
    "    \n",
    "test1(4,3,2,1)\n",
    "\n",
    "def test2(a,b,c,d=5):\n",
    "    test1(a,b,c,d)\n",
    "test2(4,3,2)"
   ]
  },
  {
   "cell_type": "code",
   "execution_count": 20,
   "metadata": {},
   "outputs": [
    {
     "name": "stdout",
     "output_type": "stream",
     "text": [
      "14\n"
     ]
    }
   ],
   "source": [
    "import functools\n",
    "newFun = functools.partial(test1,d=5)\n",
    "newFun(4,3,2)"
   ]
  },
  {
   "cell_type": "code",
   "execution_count": 29,
   "metadata": {},
   "outputs": [
    {
     "name": "stdout",
     "output_type": "stream",
     "text": [
      "32\n"
     ]
    }
   ],
   "source": [
    "# 场景\n",
    "int(\"10010\",base=2)\n",
    "\n",
    "\n",
    "# FUn\n",
    "import functools\n",
    "\"\"\"\n",
    "两个参数\n",
    "1. 函数\n",
    "2. 特定参数=偏爱值\n",
    "\"\"\"\n",
    "integer = functools.partial(int, base=2)  \n",
    "print(integer(\"100000\"))"
   ]
  },
  {
   "cell_type": "markdown",
   "metadata": {},
   "source": [
    "**高阶函数**"
   ]
  },
  {
   "cell_type": "code",
   "execution_count": 32,
   "metadata": {},
   "outputs": [
    {
     "name": "stdout",
     "output_type": "stream",
     "text": [
      "[{'name': 'c', 'age': 10}, {'name': 'a', 'age': 15}, {'name': 'b', 'age': 18}]\n"
     ]
    }
   ],
   "source": [
    "person = [{'name':'a', 'age':15}, {'name':'b', 'age':18}, {'name':'c', 'age':10}]\n",
    "\n",
    "def getKey(x):\n",
    "    return x['age']\n",
    "result = sorted(person, key=getKey)\n",
    "print(result)"
   ]
  },
  {
   "cell_type": "markdown",
   "metadata": {},
   "source": [
    "**装饰器**"
   ]
  },
  {
   "cell_type": "code",
   "execution_count": 36,
   "metadata": {},
   "outputs": [
    {
     "name": "stdout",
     "output_type": "stream",
     "text": [
      "Login...\n",
      "发说说\n"
     ]
    }
   ],
   "source": [
    "def checkLogin(func):\n",
    "    def inner():\n",
    "        print(\"Login...\")\n",
    "        func()\n",
    "    return inner\n",
    "# 功能函数\n",
    "@checkLogin\n",
    "def fss():\n",
    "    print(\"发说说\")\n",
    "@checkLogin\n",
    "def ftp():\n",
    "    print(\"发图片\")\n",
    "\n",
    "btnIndex = 1\n",
    "if btnIndex == 1:\n",
    "    fss()\n",
    "else:\n",
    "    ftp()"
   ]
  },
  {
   "cell_type": "code",
   "execution_count": 39,
   "metadata": {},
   "outputs": [
    {
     "name": "stdout",
     "output_type": "stream",
     "text": [
      "--------------------\n",
      "1 2 3\n",
      "--------------------\n",
      "666\n"
     ]
    }
   ],
   "source": [
    "# 有参装饰器\n",
    "\n",
    "def check(func):\n",
    "    def inner(*args, **kwargs):\n",
    "        print('-'*20)\n",
    "        func(*args, **kwargs)\n",
    "    return inner\n",
    "\n",
    "@check\n",
    "def fun1(a,b,c):\n",
    "    print(a,b,c)\n",
    "@check\n",
    "def fun2(a):\n",
    "    print(a)\n",
    "\n",
    "fun1(1,2,3)\n",
    "fun2(666)"
   ]
  },
  {
   "cell_type": "code",
   "execution_count": 45,
   "metadata": {},
   "outputs": [
    {
     "name": "stdout",
     "output_type": "stream",
     "text": [
      "--------------------\n",
      "1 2 3\n",
      "6\n",
      "--------------------\n",
      "666\n",
      "666\n"
     ]
    }
   ],
   "source": [
    "# 返回值的装饰器\n",
    "\n",
    "\n",
    "def check(func):\n",
    "    def inner(*args, **kwargs):\n",
    "        print('-'*20)\n",
    "        res = func(*args, **kwargs)\n",
    "        return res\n",
    "    return inner\n",
    "\n",
    "@check\n",
    "def fun1(a,b,c):\n",
    "    print(a,b,c)\n",
    "    return (a+b+c)\n",
    "@check\n",
    "def fun2(a):\n",
    "    print(a)\n",
    "    return (a)\n",
    "\n",
    "print(fun1(1,2,3))\n",
    "print(fun2(666))"
   ]
  }
 ],
 "metadata": {
  "kernelspec": {
   "display_name": "Python 3",
   "language": "python",
   "name": "python3"
  },
  "language_info": {
   "codemirror_mode": {
    "name": "ipython",
    "version": 3
   },
   "file_extension": ".py",
   "mimetype": "text/x-python",
   "name": "python",
   "nbconvert_exporter": "python",
   "pygments_lexer": "ipython3",
   "version": "3.7.1"
  }
 },
 "nbformat": 4,
 "nbformat_minor": 2
}
