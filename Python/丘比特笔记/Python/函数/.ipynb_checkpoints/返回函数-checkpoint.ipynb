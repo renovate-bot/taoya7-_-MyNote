{
 "cells": [
  {
   "cell_type": "markdown",
   "metadata": {},
   "source": [
    "# 返回函数\n",
    "\n",
    "**概念**\n",
    "\n",
    "是指一个函数内部，它返回的数据是另外一个函数。\n",
    "\n"
   ]
  },
  {
   "cell_type": "code",
   "execution_count": 4,
   "metadata": {},
   "outputs": [
    {
     "name": "stdout",
     "output_type": "stream",
     "text": [
      "<function getF.<locals>.add at 0x0000013EB3A2D1E0> <class 'function'>\n",
      "6\n"
     ]
    }
   ],
   "source": [
    "def getF(flag):\n",
    "    def add(a,b,c):\n",
    "        return a+b+c\n",
    "    def sub(a,b,c):\n",
    "        return a-b-c\n",
    "    if(flag=='+'):\n",
    "        return add\n",
    "    elif(flag=='-'):\n",
    "        return sub\n",
    "    \n",
    "tep = getF('+')\n",
    "print(tep, type(tep))\n",
    "res = tep(1,2,3)\n",
    "print(res)"
   ]
  }
 ],
 "metadata": {
  "kernelspec": {
   "display_name": "Python 3",
   "language": "python",
   "name": "python3"
  },
  "language_info": {
   "codemirror_mode": {
    "name": "ipython",
    "version": 3
   },
   "file_extension": ".py",
   "mimetype": "text/x-python",
   "name": "python",
   "nbconvert_exporter": "python",
   "pygments_lexer": "ipython3",
   "version": "3.7.1"
  }
 },
 "nbformat": 4,
 "nbformat_minor": 2
}
