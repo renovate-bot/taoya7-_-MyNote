{
 "cells": [
  {
   "cell_type": "markdown",
   "metadata": {},
   "source": [
    "# 装饰器\n",
    "\n",
    "**作用**\n",
    "\n",
    "在函数名以及函数体不改变的前提下，给一个函数附加一些额外的代码"
   ]
  },
  {
   "cell_type": "code",
   "execution_count": 3,
   "metadata": {},
   "outputs": [
    {
     "name": "stdout",
     "output_type": "stream",
     "text": [
      "发说说\n"
     ]
    }
   ],
   "source": [
    "#Step\n",
    "def fss():\n",
    "    print('发说说')\n",
    "    \n",
    "def ftp():\n",
    "    print(\"发图片\")\n",
    "\n",
    "btnIndex = 1 #添加一个按钮决定发说说还是发图片\n",
    "if(btnIndex == 1):\n",
    "    fss()\n",
    "else:\n",
    "    ftp()"
   ]
  },
  {
   "cell_type": "code",
   "execution_count": 8,
   "metadata": {},
   "outputs": [
    {
     "name": "stdout",
     "output_type": "stream",
     "text": [
      "Login>>>\n",
      "发图片\n"
     ]
    }
   ],
   "source": [
    "def checkLogin(func):\n",
    "    def inner():\n",
    "        print(\"Login>>>\")\n",
    "        func() #调用外部func\n",
    "    return inner\n",
    "\n",
    "def fss():\n",
    "    print(\"发说说\")\n",
    "fss = checkLogin(fss)\n",
    "\n",
    "def ftp():\n",
    "    print(\"发图片\")\n",
    "ftp = checkLogin(ftp)\n",
    "\n",
    "btnIndex = 2\n",
    "if(btnIndex==1):\n",
    "    fss()\n",
    "else:\n",
    "    ftp()\n"
   ]
  },
  {
   "cell_type": "code",
   "execution_count": 12,
   "metadata": {},
   "outputs": [
    {
     "name": "stdout",
     "output_type": "stream",
     "text": [
      "Login>>>\n",
      "发说说\n"
     ]
    }
   ],
   "source": [
    "# 语法糖\n",
    "#装饰器\n",
    "def checkLogin(func):\n",
    "    def inner():\n",
    "        print(\"Login>>>\")\n",
    "        func() #调用外部func\n",
    "    return inner\n",
    "\n",
    "@checkLogin\n",
    "def fss():\n",
    "    print(\"发说说\")\n",
    "\n",
    "@checkLogin\n",
    "def ftp():\n",
    "    print(\"发图片\")\n",
    "\n",
    "\n",
    "btnIndex = 1\n",
    "if(btnIndex==1):\n",
    "    fss()\n",
    "else:\n",
    "    ftp()"
   ]
  },
  {
   "cell_type": "markdown",
   "metadata": {},
   "source": [
    "> ### 上下装饰器\n",
    "\n",
    "装饰器叠加\n",
    "\n",
    "- 从上到下装饰\n",
    "- 从下到上执行"
   ]
  },
  {
   "cell_type": "code",
   "execution_count": 18,
   "metadata": {},
   "outputs": [
    {
     "name": "stdout",
     "output_type": "stream",
     "text": [
      "--------------------------------------------------\n",
      "**************************************************\n",
      "Hello Tashi\n"
     ]
    }
   ],
   "source": [
    "def line(func):\n",
    "    def inner():\n",
    "        print(\"-\"*50)\n",
    "        func()\n",
    "    return inner\n",
    "def star(func):\n",
    "    def inner():\n",
    "        print(\"*\"*50)\n",
    "        func()\n",
    "    return inner\n",
    "@line\n",
    "@star\n",
    "def show():\n",
    "    print('Hello Tashi')\n",
    "    \n",
    "show()"
   ]
  },
  {
   "cell_type": "markdown",
   "metadata": {},
   "source": [
    "> ### 有参的装饰器"
   ]
  },
  {
   "cell_type": "code",
   "execution_count": 25,
   "metadata": {},
   "outputs": [
    {
     "name": "stdout",
     "output_type": "stream",
     "text": [
      "1 2 3\n",
      "1 2 3\n"
     ]
    }
   ],
   "source": [
    "def out(func):\n",
    "    def inner(*args, **kwargs):\n",
    "        print(*args, **kwargs)\n",
    "        func(*args, **kwargs)\n",
    "    return inner\n",
    "\n",
    "@out\n",
    "def fun1(a,b,c):\n",
    "    print(a,b,c)\n",
    "    \n",
    "fun1(1,2,3)\n"
   ]
  },
  {
   "cell_type": "code",
   "execution_count": null,
   "metadata": {},
   "outputs": [],
   "source": []
  },
  {
   "cell_type": "markdown",
   "metadata": {},
   "source": [
    "> ### 有返回值的装饰器\n",
    "\n",
    "通过@装饰器(参数)的方式调用这个函数，并传递参数；并把返回值，再次当作装饰器进行使用。\n",
    "\n",
    "先计算@后面的内容，把这个内容当作是装饰器"
   ]
  },
  {
   "cell_type": "code",
   "execution_count": 43,
   "metadata": {},
   "outputs": [
    {
     "name": "stdout",
     "output_type": "stream",
     "text": [
      "------------------------------\n"
     ]
    }
   ],
   "source": [
    "def check(char):\n",
    "    def out(func):\n",
    "        def inner():\n",
    "            print(char*30)\n",
    "            func()\n",
    "        return inner\n",
    "    return out\n",
    "\n",
    "@check('-') #fun1 = check(fun1)\n",
    "def fun1():\n",
    "    pass\n",
    "    \n",
    "fun1()"
   ]
  }
 ],
 "metadata": {
  "kernelspec": {
   "display_name": "Python 3",
   "language": "python",
   "name": "python3"
  },
  "language_info": {
   "codemirror_mode": {
    "name": "ipython",
    "version": 3
   },
   "file_extension": ".py",
   "mimetype": "text/x-python",
   "name": "python",
   "nbconvert_exporter": "python",
   "pygments_lexer": "ipython3",
   "version": "3.7.1"
  }
 },
 "nbformat": 4,
 "nbformat_minor": 2
}
