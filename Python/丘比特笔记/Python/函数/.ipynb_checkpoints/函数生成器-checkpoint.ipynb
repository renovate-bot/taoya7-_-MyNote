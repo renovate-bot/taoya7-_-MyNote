{
 "cells": [
  {
   "cell_type": "markdown",
   "metadata": {},
   "source": [
    "# 生成器\n",
    "\n",
    "**介绍**\n",
    "\n",
    "是一个特殊的迭代器\n",
    "\n",
    "**特性**\n",
    "\n",
    "- 能够记录状态，并通过next()函数，访问下一个状态\n",
    "\n",
    "\n",
    "- 具有可迭代特性\n",
    "\n",
    "**创建方式**\n",
    "\n",
    "- \n"
   ]
  },
  {
   "cell_type": "code",
   "execution_count": 3,
   "metadata": {},
   "outputs": [
    {
     "name": "stdout",
     "output_type": "stream",
     "text": [
      "[0, 2, 4, 6, 8, 10, 12, 14, 16, 18, 20, 22, 24, 26, 28, 30, 32, 34, 36, 38, 40, 42, 44, 46, 48]\n"
     ]
    }
   ],
   "source": [
    "li = [i for i in range(50) if i%2==0]\n",
    "print(li)"
   ]
  },
  {
   "cell_type": "code",
   "execution_count": 9,
   "metadata": {},
   "outputs": [
    {
     "name": "stdout",
     "output_type": "stream",
     "text": [
      "<generator object <genexpr> at 0x0000022180D396D8>\n",
      "0 2 4 6 8 10 12 14 16 18 20 22 24 26 28 30 32 34 36 38 40 42 44 46 48 "
     ]
    }
   ],
   "source": [
    "# 生成器表达式\n",
    "li = (i for i in range(50) if i%2==0)\n",
    "print(li)\n",
    "\n",
    "for i in li:\n",
    "    print(i, end=\" \")"
   ]
  },
  {
   "cell_type": "code",
   "execution_count": 11,
   "metadata": {},
   "outputs": [
    {
     "data": {
      "text/plain": [
       "<generator object fun at 0x0000022180D5E048>"
      ]
     },
     "execution_count": 11,
     "metadata": {},
     "output_type": "execute_result"
    }
   ],
   "source": [
    "#生成器函数\n",
    "\"\"\"\n",
    "1. 函数中包含yeild语句\n",
    "2. 函数的执行结果就是生成器\n",
    "\n",
    "yeild可以阻断当前函数的执行,当使用next() 或者__next__()才会让函数继续执行\n",
    "\"\"\"\n",
    "\n",
    "def fun():\n",
    "    yield 1\n",
    "fun()"
   ]
  },
  {
   "cell_type": "markdown",
   "metadata": {},
   "source": [
    "**操作**"
   ]
  },
  {
   "cell_type": "code",
   "execution_count": 31,
   "metadata": {},
   "outputs": [
    {
     "name": "stdout",
     "output_type": "stream",
     "text": [
      "0\n",
      "1\n"
     ]
    },
    {
     "data": {
      "text/plain": [
       "2"
      ]
     },
     "execution_count": 31,
     "metadata": {},
     "output_type": "execute_result"
    }
   ],
   "source": [
    "# 访问\n",
    "li = (i for i in range(10))\n",
    "\n",
    "print(li.__next__())\n",
    "print(li.__next__())\n",
    "\n",
    "\n",
    "next(li)"
   ]
  },
  {
   "cell_type": "code",
   "execution_count": 33,
   "metadata": {},
   "outputs": [
    {
     "name": "stdout",
     "output_type": "stream",
     "text": [
      "1\n",
      "a\n",
      "2\n"
     ]
    }
   ],
   "source": [
    "# 生成器的关闭\n",
    "\n",
    "def test():\n",
    "    yield 1\n",
    "    print('a')\n",
    "    yield 2\n",
    "    print('b')\n",
    "    yield 3\n",
    "    print('c')\n",
    "    \n",
    "    \n",
    "res = test()\n",
    "print(res.__next__())\n",
    "print(res.__next__())\n",
    "res.close()\n",
    "# print(res.__next__()) #报错\n"
   ]
  },
  {
   "cell_type": "code",
   "execution_count": 38,
   "metadata": {},
   "outputs": [
    {
     "name": "stdout",
     "output_type": "stream",
     "text": [
      "1\n",
      "a\n",
      "2\n"
     ]
    }
   ],
   "source": [
    "# 带有返回值的\n",
    "\"\"\"\n",
    "碰到return语句。会直接终止，并抛出StopIteration异常提示\n",
    "\"\"\"\n",
    "def test():\n",
    "    yield 1\n",
    "    print('a')\n",
    "    yield 2\n",
    "    print('b')\n",
    "    return 'Close'\n",
    "    yield 3\n",
    "    print('c')\n",
    "    \n",
    "    \n",
    "res = test()\n",
    "\n",
    "print(res.__next__())\n",
    "print(res.__next__())\n",
    "# print(res.__next__()) #异常\n"
   ]
  }
 ],
 "metadata": {
  "kernelspec": {
   "display_name": "Python 3",
   "language": "python",
   "name": "python3"
  },
  "language_info": {
   "codemirror_mode": {
    "name": "ipython",
    "version": 3
   },
   "file_extension": ".py",
   "mimetype": "text/x-python",
   "name": "python",
   "nbconvert_exporter": "python",
   "pygments_lexer": "ipython3",
   "version": "3.7.1"
  }
 },
 "nbformat": 4,
 "nbformat_minor": 2
}
