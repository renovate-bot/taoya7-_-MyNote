{
 "cells": [
  {
   "cell_type": "markdown",
   "metadata": {},
   "source": [
    "## 操作文件"
   ]
  },
  {
   "cell_type": "markdown",
   "metadata": {},
   "source": [
    "### 打开文件"
   ]
  },
  {
   "cell_type": "markdown",
   "metadata": {},
   "source": [
    "文件模式【读】"
   ]
  },
  {
   "cell_type": "code",
   "execution_count": 7,
   "metadata": {},
   "outputs": [
    {
     "name": "stdout",
     "output_type": "stream",
     "text": [
      "\n"
     ]
    }
   ],
   "source": [
    "# 打开文件\n",
    "f = open('test.txt', mode='r')\n",
    "\n",
    "# 操作文件\n",
    "content = f.read()\n",
    "print(content)\n",
    "\n",
    "# 关闭文件\n",
    "f.close()"
   ]
  },
  {
   "cell_type": "markdown",
   "metadata": {},
   "source": [
    "文件模式【写】"
   ]
  },
  {
   "cell_type": "code",
   "execution_count": 9,
   "metadata": {},
   "outputs": [],
   "source": [
    "# 打开文件\n",
    "f = open('test.txt', mode='w')\n",
    "\n",
    "# 操作文件\n",
    "f.write('我写了一段文字')\n",
    "\n",
    "# 关闭文件\n",
    "f.close()\n",
    "\n",
    "# 注意 1.写入的新内容，会覆盖旧的内容\n",
    "#      2.文件不存在，会自动创建一个新文件"
   ]
  },
  {
   "cell_type": "markdown",
   "metadata": {},
   "source": [
    "文件模式【追加】"
   ]
  },
  {
   "cell_type": "code",
   "execution_count": 10,
   "metadata": {},
   "outputs": [],
   "source": [
    "# 打开文件\n",
    "f = open('test.txt', mode= 'a')\n",
    "\n",
    "# 操作文件\n",
    "f.write('我又写了一段文字')\n",
    "\n",
    "# 关闭文件\n",
    "f.close()\n",
    "\n",
    "\n",
    "# 注意 1. 写入的内容，会新增到文件末尾\n",
    "#      2. 文件不存在，会自动创建一个新文件"
   ]
  },
  {
   "cell_type": "markdown",
   "metadata": {},
   "source": [
    "读取二进制文件【读】"
   ]
  },
  {
   "cell_type": "code",
   "execution_count": 28,
   "metadata": {},
   "outputs": [],
   "source": [
    "# 打开文件\n",
    "f = open('1.jpg', 'rb')\n",
    "# 2。操作文件 \n",
    "content = f.read()\n",
    "print(content)  #输出二进制\n",
    "# 3。关闭文件 \n",
    "f.close()"
   ]
  },
  {
   "cell_type": "markdown",
   "metadata": {},
   "source": [
    "读取二进制文件【写】"
   ]
  },
  {
   "cell_type": "code",
   "execution_count": 27,
   "metadata": {},
   "outputs": [],
   "source": [
    "    \n",
    "\"\"\"\n",
    "把一张图片的前半部分 写入到 另一张图片中\n",
    "\"\"\"\n",
    "\n",
    "# 打开、操作、关闭\n",
    "fromFile = open('1.jpg','rb')\n",
    "fromContent = fromFile.read()\n",
    "fromFile.close()\n",
    "# 打开、操作、关闭\n",
    "toFile = open('2.jpg','wb')\n",
    "content = fromContent[0: len(fromContent)//2]\n",
    "toFile.write(content)\n",
    "toFile.close()"
   ]
  },
  {
   "cell_type": "markdown",
   "metadata": {},
   "source": [
    "tell() 与seek()"
   ]
  },
  {
   "cell_type": "code",
   "execution_count": null,
   "metadata": {},
   "outputs": [],
   "source": [
    "f = open('test.txt', 'rb+')\n",
    "print(f.tell())   #查看当前位置\n",
    "f.seek(-9,2)  # 从末尾指向开头\n",
    "print(f.tell())  # 0"
   ]
  },
  {
   "cell_type": "markdown",
   "metadata": {},
   "source": [
    "读取一行数据"
   ]
  },
  {
   "cell_type": "code",
   "execution_count": null,
   "metadata": {},
   "outputs": [],
   "source": [
    "f = open('test.txt', 'r')\n",
    "content = f.read(4)  # 字节数  下标会后移相应的位数\n",
    "print(content)"
   ]
  },
  {
   "cell_type": "markdown",
   "metadata": {},
   "source": [
    "f = open('test.txt', 'r')\n",
    "\n",
    "content = f.readline()  # 读取一行数据\n",
    "print(content)\n",
    "content = f.readline()  # 读取一行数据\n",
    "print(content)\n",
    "content = f.readline()  # 读取一行数据\n",
    "print(content)"
   ]
  },
  {
   "cell_type": "code",
   "execution_count": null,
   "metadata": {},
   "outputs": [],
   "source": [
    "f = open('test.txt', 'r')\n",
    "\n",
    "# f.readlines()\n",
    "# \t会自动的将文件按换行符进行处理\n",
    "# \t将处理好的每一行组成一个列表返回\n",
    "\n",
    "content = f.readlines()  # 读取一行数据\n",
    "print(content)\n",
    "\n",
    "['123456789\\n', '12345上山打老虎\\n', '54321哈啊哈哈哈']"
   ]
  },
  {
   "cell_type": "markdown",
   "metadata": {},
   "source": [
    "**关闭文件**\n",
    "\n",
    "f.close()\n",
    "\n",
    "为什么需要关闭文件？\n",
    "\n",
    "- 打开状态, 会占用系统资源\n",
    "- 会把缓冲区内容清空到磁盘文件中\n",
    "\n",
    "f.flush()\n",
    "\n",
    "- 清空缓冲区内容到磁盘文件中"
   ]
  },
  {
   "cell_type": "markdown",
   "metadata": {},
   "source": [
    "# 常用方法\n",
    "**创建文件夹**\n",
    "- os.mkdir('path')  # 创建单个目录\n",
    "- os.makedirs()    # 创建多级目录\n",
    "\n",
    "**删除文件夹**\n",
    "- os.remove('path')\n",
    "- os.rmdir('path')  #不是空 报错\n",
    "- os.removedirs(\"r'path'\") # 删除所有文件\n",
    "\n",
    "**获取当前文件工作路径**\n",
    "- os.getcwd()\n",
    "\n",
    "**获取目录列表**\n",
    "- os.listdir('path')\n",
    "\n",
    "**改变工作路径**\n",
    "- os.chdir('path')\n",
    "\n",
    "**文件重命名**\n",
    "- os.rename('oldFile','newFile')\n",
    "\n",
    "**返回path规范化的绝对路径**\n",
    "- os.path.abspath(path)\n",
    "\n",
    "\n",
    "**将path分隔成目录 和 文件名二元组返回**\n",
    "- os.path.split(path)\n",
    "\n",
    "**获取路径名**\n",
    "- os.path.dirname()\n",
    "\n",
    "**获取文件名**\n",
    "- os.path.basename()\n",
    "\n",
    "**检测路径是否存在**\n",
    "- os.path.exists(path)\n",
    "\n",
    "**获取文件属性**\n",
    "- os.stat(file)\n",
    "\n",
    "**修改文件权限与时间戳**\n",
    "- os.chmod(file)\n",
    "\n",
    "**终止当前进程**\n",
    "- os.exit()\n",
    "\n",
    "**获取文件大小**\n",
    "- os.path.getsize(fileNameS)"
   ]
  },
  {
   "cell_type": "markdown",
   "metadata": {},
   "source": [
    "# 操作文件\n",
    "**创建目录**\n",
    "- os.mkdir('file')\n",
    "\n",
    "**复制文件**\n",
    "- shutil.copyfile('oldFile','newFile')  # oldfile和newfile都只能是文件\n",
    "- shutil.copy('oldFile','newFile')　　# oldfile只能是文件夹，newfile可以是文件，也可以是目标目录\n",
    "\n",
    "**复制文件夹**\n",
    "- shutil.copytree('oldDir', 'newDir')  #   olddir和newdir都只能是目录，且newdir必须不存在\n",
    "\n",
    "**重命名文件（目录）**\n",
    "- os.rename(\"oldname\",\"newname\")       文件或目录都是使用这条命令\n",
    "\n",
    "**移动文件（目录）**\n",
    "- shutil.move(\"oldpos\",\"newpos\")   \n",
    "\n",
    "**删除文件**\n",
    "- os.remove(\"file\")\n",
    "\n",
    "**删除目录**\n",
    "- os.rmdir(\"dir\") # 只能删除空目录\n",
    "- shutil.rmtree(\"dir\")    #空目录、有内容的目录都可以删\n",
    "\n",
    "**转换目录**\n",
    "- os.chdir(\"path\")   换路径\n"
   ]
  },
  {
   "cell_type": "markdown",
   "metadata": {},
   "source": [
    "# Demo"
   ]
  },
  {
   "cell_type": "markdown",
   "metadata": {},
   "source": [
    "**文件复制**"
   ]
  },
  {
   "cell_type": "code",
   "execution_count": null,
   "metadata": {},
   "outputs": [],
   "source": [
    "import os\n",
    "\n",
    "sourceFile = open('Demo.txt', 'r', encoding='utf-8')\n",
    "copyFile = open('Demo_copy.txt', 'a', encoding='utf-8')\n",
    "\n",
    "while True:\n",
    "    content = sourceFile.read(1024)  #先读取1024个字节\n",
    "    if len(content) == 0:\n",
    "        break\n",
    "    copyFile.write(content)\n",
    "# 关闭文件\n",
    "sourceFile.close()\n",
    "copyFile.close()\n"
   ]
  },
  {
   "cell_type": "markdown",
   "metadata": {},
   "source": [
    "**文件分类**"
   ]
  },
  {
   "cell_type": "code",
   "execution_count": null,
   "metadata": {},
   "outputs": [],
   "source": [
    "'''\n",
    "1.遍历所有的文件\n",
    "2.分解文件的后缀名\n",
    "3.查看一下，是否存在同名的目录\n",
    "4.如果不存在这样的目录 -> 直接创建一个这样名称的目录\n",
    "5.目录存在 -> 移动过去\n",
    "'''\n",
    "import os\n",
    "import shutil\n",
    "#路径\n",
    "path = 'Test'\n",
    "if not os.path.exists(path):\n",
    "    exit()\n",
    "os.chdir(path)\n",
    "file_list = os.listdir('./')\n",
    "#1.遍历所有的文件\n",
    "for file_name in file_list:\n",
    "    index = file_name.rfind('.')        #从右往左查找\n",
    "    if index == -1: #如果找不到\n",
    "        continue\n",
    "    extension = file_name[index+1:] #获取文件后缀\n",
    "\n",
    "    if not os.path.exists(extension):   #判断 文件是否存在\n",
    "        os.mkdir(extension)\n",
    "    shutil.move(file_name,extension)"
   ]
  }
 ],
 "metadata": {
  "kernelspec": {
   "display_name": "Python 3",
   "language": "python",
   "name": "python3"
  },
  "language_info": {
   "codemirror_mode": {
    "name": "ipython",
    "version": 3
   },
   "file_extension": ".py",
   "mimetype": "text/x-python",
   "name": "python",
   "nbconvert_exporter": "python",
   "pygments_lexer": "ipython3",
   "version": "3.7.1"
  }
 },
 "nbformat": 4,
 "nbformat_minor": 2
}
