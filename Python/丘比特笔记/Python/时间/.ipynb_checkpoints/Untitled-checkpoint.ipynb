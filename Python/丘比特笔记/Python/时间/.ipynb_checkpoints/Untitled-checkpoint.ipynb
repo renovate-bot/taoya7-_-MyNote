{
 "cells": [
  {
   "cell_type": "markdown",
   "metadata": {},
   "source": [
    "# Time\n",
    "\n",
    "**时间与日期相关库**\n",
    "\n",
    "- time\n",
    "\n",
    "**时间表示方法**\n",
    "\n",
    "- 时间元组\n",
    "- 时间戳\n",
    "- 格式化显示\n",
    "\n",
    "**Show**\n",
    "\n",
    "- 返回当前的时间戳"
   ]
  },
  {
   "cell_type": "code",
   "execution_count": 29,
   "metadata": {},
   "outputs": [
    {
     "name": "stdout",
     "output_type": "stream",
     "text": [
      "1554542209.5192492\n"
     ]
    }
   ],
   "source": [
    "import time\n",
    "\n",
    "now = time.time()\n",
    "print(now)"
   ]
  },
  {
   "cell_type": "code",
   "execution_count": 30,
   "metadata": {},
   "outputs": [
    {
     "name": "stdout",
     "output_type": "stream",
     "text": [
      "Sat Apr  6 17:16:58 2019\n"
     ]
    }
   ],
   "source": [
    "import time\n",
    "print(time.ctime())"
   ]
  },
  {
   "cell_type": "markdown",
   "metadata": {},
   "source": [
    "- 返回时间元组"
   ]
  },
  {
   "cell_type": "code",
   "execution_count": 6,
   "metadata": {},
   "outputs": [
    {
     "name": "stdout",
     "output_type": "stream",
     "text": [
      "time.struct_time(tm_year=2019, tm_mon=4, tm_mday=6, tm_hour=17, tm_min=9, tm_sec=35, tm_wday=5, tm_yday=96, tm_isdst=0)\n"
     ]
    }
   ],
   "source": [
    "print(Atime.localtime()) #返回时间元组"
   ]
  },
  {
   "cell_type": "markdown",
   "metadata": {},
   "source": [
    "- 返回当地时间\n",
    "\n",
    "接受时间元组并返回一个可读的形式为\" Sat Apr  6 17:10:41 2019\"的字符串"
   ]
  },
  {
   "cell_type": "code",
   "execution_count": 14,
   "metadata": {},
   "outputs": [
    {
     "name": "stdout",
     "output_type": "stream",
     "text": [
      "本地时间为 : Sat Apr  6 17:10:41 2019\n"
     ]
    }
   ],
   "source": [
    "localtime = time.asctime( time.localtime() )\n",
    "print (\"本地时间为 :\", localtime)"
   ]
  },
  {
   "cell_type": "markdown",
   "metadata": {},
   "source": [
    "- 格式化日期"
   ]
  },
  {
   "cell_type": "code",
   "execution_count": 25,
   "metadata": {},
   "outputs": [
    {
     "name": "stdout",
     "output_type": "stream",
     "text": [
      "2019-04-06 17:14:08\n",
      "Sat Apr 06 17:14:08 2019\n",
      "1554542022.0\n"
     ]
    }
   ],
   "source": [
    "import time\n",
    "\n",
    "str = time.strftime(\"%Y-%m-%d %H:%M:%S\", time.localtime())\n",
    "print(str)\n",
    "\n",
    "print (time.strftime(\"%a %b %d %H:%M:%S %Y\", time.localtime()))\n",
    "\n",
    "\n",
    "# 将格式字符串转换为时间戳\n",
    "a = \"Sat Apr 06 17:13:42 2019\"\n",
    "print (time.mktime(time.strptime(a,\"%a %b %d %H:%M:%S %Y\")))\n",
    "      "
   ]
  },
  {
   "cell_type": "markdown",
   "metadata": {},
   "source": [
    "- 日期相关"
   ]
  },
  {
   "cell_type": "code",
   "execution_count": 31,
   "metadata": {},
   "outputs": [
    {
     "name": "stdout",
     "output_type": "stream",
     "text": [
      "     April 2019\n",
      "Mo Tu We Th Fr Sa Su\n",
      " 1  2  3  4  5  6  7\n",
      " 8  9 10 11 12 13 14\n",
      "15 16 17 18 19 20 21\n",
      "22 23 24 25 26 27 28\n",
      "29 30\n",
      " <class 'str'>\n"
     ]
    }
   ],
   "source": [
    "import calendar\n",
    "\n",
    "ca = calendar.month(2019,4)\n",
    "print(ca, type(ca))"
   ]
  },
  {
   "cell_type": "markdown",
   "metadata": {},
   "source": [
    "- 线程休眠"
   ]
  },
  {
   "cell_type": "code",
   "execution_count": null,
   "metadata": {},
   "outputs": [],
   "source": [
    "import time\n",
    "\n",
    "\"\"\"\n",
    "time.sleep(secs)\n",
    "推迟调用线程的运行，secs指秒数\n",
    "\"\"\"\n",
    "\n",
    "for i in range(5):\n",
    "    print(i)\n",
    "    time.sleep(6)"
   ]
  }
 ],
 "metadata": {
  "kernelspec": {
   "display_name": "Python 3",
   "language": "python",
   "name": "python3"
  },
  "language_info": {
   "codemirror_mode": {
    "name": "ipython",
    "version": 3
   },
   "file_extension": ".py",
   "mimetype": "text/x-python",
   "name": "python",
   "nbconvert_exporter": "python",
   "pygments_lexer": "ipython3",
   "version": "3.7.1"
  }
 },
 "nbformat": 4,
 "nbformat_minor": 2
}
