{
 "cells": [
  {
   "cell_type": "markdown",
   "metadata": {},
   "source": [
    "16.给定一个包括 n 个整数的数组 nums 和 一个目标值 target。找出 nums 中的三个整数，使得它们的和与 target 最接近。返回这三个数的和。假定每组输入只存在唯一答案\n",
    "\n",
    "\n",
    "例如，给定数组 nums = [-1，2，1，-4], 和 target = 1.\n",
    "\n",
    "与 target 最接近的三个数的和为 2. (-1 + 2 + 1 = 2).\n",
    "\n",
    "**思路**\n",
    "\n",
    "1. 排序 [-4,-1,1,2]\n",
    "2. 使用双指针\n",
    "3. 因为是三个整数的和 所以遍历每个数，然后从下一个和最后一个为两个指针\n",
    "4. 当左边一直小于右边的时候\n"
   ]
  },
  {
   "cell_type": "code",
   "execution_count": 15,
   "metadata": {},
   "outputs": [
    {
     "name": "stdout",
     "output_type": "stream",
     "text": [
      "2\n"
     ]
    }
   ],
   "source": [
    "def threeClosest(nums,target):\n",
    "    nums.sort() #排序\n",
    "    n = len(nums)\n",
    "    res = float(\"inf\") #表示无穷\n",
    "    for i in range(n):\n",
    "        if i>0 and nums[i] == nums[i-1]:\n",
    "            continue\n",
    "        left = i+1\n",
    "        right = n-1\n",
    "        while left<right:\n",
    "            Isum = nums[i] + nums[left] + nums[right]\n",
    "            if Isum == target:\n",
    "                return target\n",
    "            if abs(res-target) > abs(Isum-target):\n",
    "                res = Isum\n",
    "            if Isum > target:\n",
    "                right -=1\n",
    "            elif Isum<target: #为什么小了要+呢？ 排序 小的在左边 Isum<target说明了需要大点的值\n",
    "                left += 1\n",
    "    return res\n",
    "\n",
    "res = threeClosest([-4,-1,1,2],1)\n",
    "print(res)   \n",
    "\n",
    "    "
   ]
  },
  {
   "cell_type": "code",
   "execution_count": 18,
   "metadata": {},
   "outputs": [],
   "source": [
    "#17\n",
    "def letterCombinations(digits):\n",
    "    findNums = {\n",
    "        '2':'abc',\n",
    "        '3':'def',\n",
    "        '4':'ghi',\n",
    "        '5':'jkl',\n",
    "        '6':'mno',\n",
    "        '7':'pqrs',\n",
    "        '8':'tuv',\n",
    "        '9':'wxyz'\n",
    "    }\n",
    "    if not digits:\n",
    "        return Null\n",
    "    n = len(digit) #长度\n",
    "    res = []\n",
    "    def f(i,tmp):\n",
    "        if i== n:\n",
    "            res.append\n",
    "    \n",
    "letterCombinations(2)"
   ]
  }
 ],
 "metadata": {
  "kernelspec": {
   "display_name": "Python 3",
   "language": "python",
   "name": "python3"
  },
  "language_info": {
   "codemirror_mode": {
    "name": "ipython",
    "version": 3
   },
   "file_extension": ".py",
   "mimetype": "text/x-python",
   "name": "python",
   "nbconvert_exporter": "python",
   "pygments_lexer": "ipython3",
   "version": "3.7.1"
  }
 },
 "nbformat": 4,
 "nbformat_minor": 2
}
