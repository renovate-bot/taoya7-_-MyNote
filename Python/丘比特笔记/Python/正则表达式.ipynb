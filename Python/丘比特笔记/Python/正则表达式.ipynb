{
 "cells": [
  {
   "cell_type": "markdown",
   "metadata": {},
   "source": [
    "# 正则表达式\n",
    "\n",
    "- `re.match()` 从头开始匹配,找到返回\n",
    "- `re.search()` 全局匹配包含\n",
    "- `re.findall()` 搜索字符串,以列表形式返回全部能匹配的子串\n",
    "\n",
    "---\n",
    "\n",
    "- `re.split()` 以匹配到的字符当作列表分隔符\n",
    "- `re.sub()` 匹配字符并替换\n",
    "- `re.fullmatch()`全部匹配\n",
    "\n",
    "\n",
    "\n",
    "**标识符**\n",
    "\n",
    "- `re.I` 忽略大小写\n",
    "- `re.S ` 改变.的行为\n",
    "- `re.M` 多行模式\n",
    "- `re.X` 给表达式写注释\n"
   ]
  },
  {
   "cell_type": "code",
   "execution_count": 11,
   "metadata": {},
   "outputs": [
    {
     "name": "stdout",
     "output_type": "stream",
     "text": [
      "<re.Match object; span=(1, 4), match='123'>\n"
     ]
    }
   ],
   "source": [
    "import re\n",
    "#0~9的数字匹配三个\n",
    "str = \"a123456789\"\n",
    "print(re.search('[0-9]{3}',str)) #返回对象"
   ]
  },
  {
   "cell_type": "code",
   "execution_count": 21,
   "metadata": {},
   "outputs": [
    {
     "data": {
      "text/plain": [
       "['1', '5', '9', '2']"
      ]
     },
     "execution_count": 21,
     "metadata": {},
     "output_type": "execute_result"
    }
   ],
   "source": [
    "# 返回数字\n",
    "str = \"abc1s5df92f\"\n",
    "re.findall(\"[0-9]\",str)"
   ]
  },
  {
   "cell_type": "code",
   "execution_count": 32,
   "metadata": {
    "scrolled": true
   },
   "outputs": [
    {
     "name": "stdout",
     "output_type": "stream",
     "text": [
      "a\n"
     ]
    }
   ],
   "source": [
    "import re\n",
    "\n",
    "match_res = re.search('[a-z]','abc')\n",
    "if match_res:\n",
    "    print(match_res.group())"
   ]
  },
  {
   "cell_type": "markdown",
   "metadata": {},
   "source": [
    "**表达式**"
   ]
  },
  {
   "cell_type": "code",
   "execution_count": 35,
   "metadata": {},
   "outputs": [
    {
     "data": {
      "text/plain": [
       "<re.Match object; span=(0, 3), match='1a2'>"
      ]
     },
     "execution_count": 35,
     "metadata": {},
     "output_type": "execute_result"
    }
   ],
   "source": [
    "\n",
    "\"\"\"\n",
    "<*> \n",
    "匹配任意字符，除了换行符\n",
    "\"\"\"\n",
    "re.search('...','1a2bcc')"
   ]
  },
  {
   "cell_type": "code",
   "execution_count": 45,
   "metadata": {},
   "outputs": [
    {
     "name": "stdout",
     "output_type": "stream",
     "text": [
      "<re.Match object; span=(0, 1), match='b'>\n",
      "None\n"
     ]
    }
   ],
   "source": [
    "\"\"\"\n",
    "<^>\n",
    "匹配字符串的开始\n",
    "\n",
    "<$>\n",
    "匹配字符串的结尾\n",
    "\"\"\"\n",
    "\n",
    "print(re.search('^b','b2'))\n",
    "print(re.search('^a','1ba')) #要以a开头所以匹配不到"
   ]
  },
  {
   "cell_type": "code",
   "execution_count": 65,
   "metadata": {},
   "outputs": [
    {
     "name": "stdout",
     "output_type": "stream",
     "text": [
      "<re.Match object; span=(0, 5), match='abccc'>\n",
      "<re.Match object; span=(2, 8), match='abbbbb'>\n",
      "<re.Match object; span=(1, 3), match='11'>\n"
     ]
    }
   ],
   "source": [
    "\"\"\"\n",
    "<*>\n",
    "匹配0或多个的表达式前一个字符\n",
    "\"\"\"\n",
    "res = re.search('.*','abccc') #等同于 .......\n",
    "print(res)\n",
    "\"\"\"\n",
    "<+>\n",
    "匹配1个或多个表达式\n",
    "\"\"\"\n",
    "res = re.search('ab+','aaabbbbbcc')\n",
    "print(res)\n",
    "\n",
    "\"\"\"\n",
    "<?>\n",
    "匹配0或1由前面的正则表达式定义的片段，非贪婪方式\n",
    "\"\"\"\n",
    "res = re.search('1.?','211112')\n",
    "print(res)"
   ]
  },
  {
   "cell_type": "code",
   "execution_count": 74,
   "metadata": {},
   "outputs": [
    {
     "name": "stdout",
     "output_type": "stream",
     "text": [
      "<re.Match object; span=(0, 5), match='Tashi'>\n"
     ]
    }
   ],
   "source": [
    "\"\"\"\n",
    "[0-9] 表示匹配0-9中数字的一个\n",
    "[a-z]\n",
    "[A-Z]\n",
    "\"\"\"\n",
    "name = re.search('[t|T]ashi','Tashi')\n",
    "print(name)"
   ]
  },
  {
   "cell_type": "code",
   "execution_count": 106,
   "metadata": {},
   "outputs": [
    {
     "name": "stdout",
     "output_type": "stream",
     "text": [
      "('tashi', '123', 'ale')\n",
      "tashi\n",
      "('140', '830', '1998')\n",
      "{'province': '140', 'city': '830', 'year': '1998'}\n"
     ]
    }
   ],
   "source": [
    "\"\"\"\n",
    "分组匹配\n",
    "\"\"\"\n",
    "\n",
    "import re\n",
    "\n",
    "data = \"tashi123ale\"\n",
    "res = re.search('([a-z]*)([0-9]*)([a-z]*)',data)\n",
    "print(res.groups())\n",
    "print(res.group(1))\n",
    "\n",
    "#身份证验证\n",
    "data = \"140830199810040017\"\n",
    "res = re.search('(?P<province>\\d{3})(?P<city>\\d{3})(?P<year>\\d{4})',data)\n",
    "print(res.groups())\n",
    "print(res.groupdict()) #转变字典"
   ]
  },
  {
   "cell_type": "code",
   "execution_count": 107,
   "metadata": {},
   "outputs": [
    {
     "name": "stdout",
     "output_type": "stream",
     "text": [
      "<re.Match object; span=(1, 2), match='1'>\n",
      "<re.Match object; span=(0, 1), match='a'>\n",
      "<re.Match object; span=(3, 4), match='1'>\n",
      "<re.Match object; span=(3, 4), match='%'>\n",
      "['\\n', '\\r', '\\t']\n"
     ]
    }
   ],
   "source": [
    "\"\"\"\n",
    "\\d 匹配任意数字，等价[0-9]\n",
    "\\D 匹配任意非数字\n",
    "\\w 匹配字母数字及下划线\n",
    "\\W 匹配非字母数字及下划线\n",
    "\n",
    "\\s 匹配任意空白字符 <==> [\\t\\n\\r\\f]\n",
    "\"\"\"\n",
    "\n",
    "res = re.search('\\d','a123') #数字\n",
    "print(res)\n",
    "\n",
    "res = re.search('\\D','a123') #非数字\n",
    "print(res)\n",
    "\n",
    "res = re.search('\\w','%^&123') #字母数字 没有符号\n",
    "print(res)\n",
    "\n",
    "res = re.search('\\W','123%^&123') #除了数字字母 所以是字符\n",
    "print(res)\n",
    "\n",
    "res = re.findall('\\s','你是\\n\\b\\r\\t')\n",
    "print(res)\n"
   ]
  },
  {
   "cell_type": "code",
   "execution_count": 109,
   "metadata": {},
   "outputs": [
    {
     "name": "stdout",
     "output_type": "stream",
     "text": [
      "['小红', '小明', '小花']\n"
     ]
    }
   ],
   "source": [
    "\"\"\"\n",
    "匹配分割\n",
    "\"\"\"\n",
    "import re\n",
    "\n",
    "data = \"小红,小明,小花\"\n",
    "res = re.split(',',data)\n",
    "print(res)"
   ]
  },
  {
   "cell_type": "code",
   "execution_count": 117,
   "metadata": {},
   "outputs": [
    {
     "name": "stdout",
     "output_type": "stream",
     "text": [
      "小红__小明,小花\n"
     ]
    }
   ],
   "source": [
    "\"\"\"\n",
    "匹配替换\n",
    "\n",
    "参数1 匹配规则\n",
    "参数2 要替换的字符\n",
    "参数3 替换的数据\n",
    "参数4 替换几个\n",
    "\"\"\"\n",
    "import re\n",
    "\n",
    "# help(re)\n",
    "data = \"小红,小明,小花\"\n",
    "res = re.sub(',','__',data,count=1)\n",
    "print(res)"
   ]
  },
  {
   "cell_type": "code",
   "execution_count": 8,
   "metadata": {},
   "outputs": [
    {
     "name": "stdout",
     "output_type": "stream",
     "text": [
      "None\n"
     ]
    }
   ],
   "source": [
    "\"\"\"\n",
    "注释\n",
    "\"\"\"\n",
    "import re\n",
    "res = re.search('[0-9]{3} \" #匹配0-9的三个数字\" ',\"1873567\")\n",
    "print(res)"
   ]
  },
  {
   "cell_type": "code",
   "execution_count": 26,
   "metadata": {},
   "outputs": [
    {
     "name": "stdout",
     "output_type": "stream",
     "text": [
      "['123', '411', '351', '123']\n"
     ]
    }
   ],
   "source": [
    "import re\n",
    "str = \"12341135112352\"\n",
    "res = re.findall(\"(\\d{3})\", str)\n",
    "print(res)"
   ]
  }
 ],
 "metadata": {
  "kernelspec": {
   "display_name": "Python 3",
   "language": "python",
   "name": "python3"
  },
  "language_info": {
   "codemirror_mode": {
    "name": "ipython",
    "version": 3
   },
   "file_extension": ".py",
   "mimetype": "text/x-python",
   "name": "python",
   "nbconvert_exporter": "python",
   "pygments_lexer": "ipython3",
   "version": "3.7.3"
  }
 },
 "nbformat": 4,
 "nbformat_minor": 2
}
