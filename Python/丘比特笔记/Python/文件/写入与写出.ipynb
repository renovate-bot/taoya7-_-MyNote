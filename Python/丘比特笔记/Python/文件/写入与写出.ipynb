{
 "cells": [
  {
   "cell_type": "markdown",
   "metadata": {},
   "source": [
    "**读文件**"
   ]
  },
  {
   "cell_type": "code",
   "execution_count": 16,
   "metadata": {},
   "outputs": [
    {
     "name": "stdout",
     "output_type": "stream",
     "text": [
      "静夜思\n",
      "\n",
      "作者：李白\n",
      "\n",
      "床前明月光，疑是地上霜。\n",
      "举头望明月，低头思故乡。\n"
     ]
    }
   ],
   "source": [
    "with open('Main.txt', 'r') as f:\n",
    "    content = f.read()\n",
    "    print(content)"
   ]
  },
  {
   "cell_type": "code",
   "execution_count": 18,
   "metadata": {},
   "outputs": [
    {
     "name": "stdout",
     "output_type": "stream",
     "text": [
      "静夜思\n",
      "\n"
     ]
    }
   ],
   "source": [
    "with open('Main.txt','r') as f:\n",
    "    con = f.readline() #读取一行\n",
    "    print(con)"
   ]
  },
  {
   "cell_type": "code",
   "execution_count": 19,
   "metadata": {},
   "outputs": [
    {
     "name": "stdout",
     "output_type": "stream",
     "text": [
      "['静夜思\\n', '\\n', '作者：李白\\n', '\\n', '床前明月光，疑是地上霜。\\n', '举头望明月，低头思故乡。']\n"
     ]
    }
   ],
   "source": [
    "with open('Main.txt','r') as f:\n",
    "    con = f.readlines() #每次读取一行\n",
    "    print(con)"
   ]
  },
  {
   "cell_type": "markdown",
   "metadata": {},
   "source": [
    "**写文件**\n",
    "\n",
    "注意 \n",
    "\n",
    "`w`写入模式\n",
    "1. 写入的新内容，会覆盖旧的内容\n",
    "2. 文件不存在，会自动创建一个新文件\n",
    "\n",
    "`a`追加模式\n",
    "1. 写入的内容，会新增到文件末尾\n",
    "2. 文件不存在，会自动创建一个新文件\n"
   ]
  },
  {
   "cell_type": "code",
   "execution_count": 9,
   "metadata": {},
   "outputs": [],
   "source": [
    "with open('Test.txt', 'w') as f:\n",
    "    f.write(\"777\")"
   ]
  },
  {
   "cell_type": "code",
   "execution_count": 15,
   "metadata": {},
   "outputs": [
    {
     "name": "stdout",
     "output_type": "stream",
     "text": [
      "42\n",
      "Success\n"
     ]
    }
   ],
   "source": [
    "with open('Test.txt', 'a') as f:\n",
    "    print( f.tell()) #查看当前位置\n",
    "    f.write('I write again')\n",
    "    print(\"Success\")"
   ]
  },
  {
   "cell_type": "code",
   "execution_count": 27,
   "metadata": {},
   "outputs": [
    {
     "name": "stdout",
     "output_type": "stream",
     "text": [
      "3\n"
     ]
    }
   ],
   "source": [
    "with open('Main.txt', 'r') as f:\n",
    "    f.seek(3) #移动文件指针\n",
    "    print(f.tell()) #查看当前位置\n",
    "        \n",
    "    "
   ]
  },
  {
   "cell_type": "markdown",
   "metadata": {},
   "source": [
    "**二进制文件**"
   ]
  },
  {
   "cell_type": "code",
   "execution_count": 32,
   "metadata": {},
   "outputs": [
    {
     "name": "stderr",
     "output_type": "stream",
     "text": [
      "IOPub data rate exceeded.\n",
      "The notebook server will temporarily stop sending output\n",
      "to the client in order to avoid crashing it.\n",
      "To change this limit, set the config variable\n",
      "`--NotebookApp.iopub_data_rate_limit`.\n",
      "\n",
      "Current values:\n",
      "NotebookApp.iopub_data_rate_limit=1000000.0 (bytes/sec)\n",
      "NotebookApp.rate_limit_window=3.0 (secs)\n",
      "\n"
     ]
    }
   ],
   "source": [
    "with open('Bg.jpg', 'rb') as f:\n",
    "    con = f.read()\n",
    "    print(con)"
   ]
  },
  {
   "cell_type": "markdown",
   "metadata": {},
   "source": [
    "**关闭文件**\n",
    "\n",
    "`f.close()`\n",
    "\n",
    "为什么需要关闭文件？\n",
    "\n",
    "    打开状态, 会占用系统资源\n",
    "    会把缓冲区内容清空到磁盘文件中\n",
    "\n",
    "`f.flush()`\n",
    "\n",
    "清空缓冲区内容到磁盘文件中"
   ]
  },
  {
   "cell_type": "markdown",
   "metadata": {},
   "source": [
    "**文件编码**\n",
    "\n",
    "要读取非UTF-8编码的文本文件，需要给open()函数传入encoding参数，例如，读取GBK编码的文件"
   ]
  },
  {
   "cell_type": "code",
   "execution_count": 44,
   "metadata": {},
   "outputs": [
    {
     "name": "stdout",
     "output_type": "stream",
     "text": [
      "静夜思\n",
      "\n",
      "作者：李白\n",
      "\n",
      "床前明月光，疑是地上霜。\n",
      "举头望明月，低头思故乡。\n"
     ]
    }
   ],
   "source": [
    "with open('Main.txt', 'r', encoding=\"gbk\") as f:\n",
    "    con = f.read()\n",
    "    print(con)"
   ]
  }
 ],
 "metadata": {
  "kernelspec": {
   "display_name": "Python 3",
   "language": "python",
   "name": "python3"
  },
  "language_info": {
   "codemirror_mode": {
    "name": "ipython",
    "version": 3
   },
   "file_extension": ".py",
   "mimetype": "text/x-python",
   "name": "python",
   "nbconvert_exporter": "python",
   "pygments_lexer": "ipython3",
   "version": "3.7.1"
  }
 },
 "nbformat": 4,
 "nbformat_minor": 2
}
