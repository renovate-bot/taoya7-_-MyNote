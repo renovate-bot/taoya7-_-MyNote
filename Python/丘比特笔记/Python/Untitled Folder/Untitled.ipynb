{
 "cells": [
  {
   "cell_type": "markdown",
   "metadata": {},
   "source": [
    "# 这是一级标题\n",
    "## 这是二级标题\n",
    "### 这是三级标题\n",
    "#### 这是四级标题\n",
    "##### 这是五级标题\n",
    "###### 这是六级标题\n",
    "\n",
    "**这是加粗的文字**\n",
    "*这是倾斜的文字*`\n",
    "***这是斜体加粗的文字***\n",
    "~~这是加删除线的文字~~\n",
    "\n",
    "---\n",
    "\n",
    "[百度](http://www.baidu.com)\n",
    "\n",
    "\n",
    "> 引用\n",
    "\n",
    "- 列表内容\n",
    "+ 列表内容\n",
    "* 列表内容\n",
    "\n",
    "\n",
    "1.列表内容\n",
    "2.列表内容\n",
    "3.列表内容\n",
    "\n",
    "注意：序号跟内容之间要有空格\n",
    "\n",
    "\n",
    "表头|表头|表头\n",
    "---|:--:|---:\n",
    "内容|内容|内容\n",
    "内容|内容|内容\n",
    "\n",
    "\n",
    "`代码内容`\n",
    "\n",
    "\n",
    "```\n",
    "public static void main(){\n",
    "\n",
    "}\n",
    "```\n",
    "\n",
    "```flow\n",
    "st=>start: 开始\n",
    "op=>operation: My Operation\n",
    "cond=>condition: Yes or No?\n",
    "e=>end\n",
    "st->op->cond\n",
    "cond(yes)->e\n",
    "cond(no)->op\n",
    "&```"
   ]
  },
  {
   "cell_type": "code",
   "execution_count": null,
   "metadata": {},
   "outputs": [],
   "source": []
  }
 ],
 "metadata": {
  "kernelspec": {
   "display_name": "Python 3",
   "language": "python",
   "name": "python3"
  },
  "language_info": {
   "codemirror_mode": {
    "name": "ipython",
    "version": 3
   },
   "file_extension": ".py",
   "mimetype": "text/x-python",
   "name": "python",
   "nbconvert_exporter": "python",
   "pygments_lexer": "ipython3",
   "version": "3.7.1"
  }
 },
 "nbformat": 4,
 "nbformat_minor": 2
}
