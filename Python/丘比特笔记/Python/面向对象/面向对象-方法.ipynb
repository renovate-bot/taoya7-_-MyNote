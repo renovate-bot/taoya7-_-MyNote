{
 "cells": [
  {
   "cell_type": "markdown",
   "metadata": {},
   "source": [
    "## 方法\n",
    "#### 创建一个类"
   ]
  },
  {
   "cell_type": "code",
   "execution_count": 2,
   "metadata": {
    "scrolled": true
   },
   "outputs": [
    {
     "name": "stdout",
     "output_type": "stream",
     "text": [
      "Eat\n"
     ]
    }
   ],
   "source": [
    "class Person:\n",
    "    def eat(self):\n",
    "        print(\"Eat\")\n",
    "        \n",
    "p = Person()  #创建对象\n",
    "p.eat() #调用方法\n",
    "    "
   ]
  },
  {
   "cell_type": "markdown",
   "metadata": {},
   "source": [
    "### 方法划分\n",
    "\n",
    "- 实例方法\n",
    "\n",
    "- 类方法\n",
    "\n",
    "- 静态方法\n",
    "\n",
    "- **注意**\n",
    "  - 划分的依据是：方法的第一个参数必须要接受的数据类型\n",
    "  - 不管是哪一种类型的方法，都是存储在类中\n",
    "  - 不同类型方法的调用方式不同"
   ]
  },
  {
   "cell_type": "code",
   "execution_count": 11,
   "metadata": {},
   "outputs": [
    {
     "name": "stdout",
     "output_type": "stream",
     "text": [
      "<__main__.Person object at 0x0000020051C0FE48>\n",
      "Eat Food\n",
      "ClassMethod <class '__main__.Person'>\n",
      "StaticMethod\n"
     ]
    }
   ],
   "source": [
    "class Person:\n",
    "    def eat(self):\n",
    "        print(\"Eat\",self)\n",
    "    \n",
    "    @classmethod\n",
    "    def method1(cls):\n",
    "        print(\"ClassMethod\",cls)\n",
    "        \n",
    "    @staticmethod\n",
    "    def method2():\n",
    "        print(\"StaticMethod\")\n",
    "        \n",
    "p = Person()\n",
    "print(p)\n",
    "Person.eat(\"Food\")\n",
    "Person.method1()\n",
    "Person.method2()"
   ]
  },
  {
   "cell_type": "markdown",
   "metadata": {},
   "source": [
    "#### 实例方法"
   ]
  },
  {
   "cell_type": "code",
   "execution_count": 13,
   "metadata": {},
   "outputs": [
    {
     "name": "stdout",
     "output_type": "stream",
     "text": [
      "<__main__.Person object at 0x0000020051BE9E10>\n",
      "在吃饭 零食\n"
     ]
    }
   ],
   "source": [
    "class Person():\n",
    "    def eat(self, food):\n",
    "        print(\"在吃饭\",food)\n",
    "        \n",
    "        \n",
    "#调用\n",
    "p = Person()\n",
    "print(p)\n",
    "p.eat(\"零食\")"
   ]
  },
  {
   "cell_type": "code",
   "execution_count": 21,
   "metadata": {},
   "outputs": [
    {
     "name": "stdout",
     "output_type": "stream",
     "text": [
      "在吃饭 零食啊\n"
     ]
    }
   ],
   "source": [
    "class Person1():\n",
    "    def eat(self, food):\n",
    "        print(\"在吃饭\",food)\n",
    "        \n",
    "        \n",
    "#调用\n",
    "Person1.eat\n",
    "\n",
    "\n",
    "Person1.eat(\"123\",\"零食啊\")"
   ]
  },
  {
   "cell_type": "markdown",
   "metadata": {},
   "source": [
    "#### 类方法"
   ]
  },
  {
   "cell_type": "code",
   "execution_count": 27,
   "metadata": {},
   "outputs": [
    {
     "name": "stdout",
     "output_type": "stream",
     "text": [
      "<class '__main__.Animal'>\n",
      "<class '__main__.Animal'>\n"
     ]
    }
   ],
   "source": [
    "class Animal:\n",
    "    \n",
    "    def run(self):\n",
    "        print(self)\n",
    "        \n",
    "    @classmethod\n",
    "    def method(cls):\n",
    "        print(cls)\n",
    "\n",
    "# 方式一\n",
    "a = Animal()\n",
    "a.method()\n",
    "\n",
    "# 方式二\n",
    "Animal.method()"
   ]
  },
  {
   "cell_type": "markdown",
   "metadata": {},
   "source": [
    "#### 静态方法"
   ]
  },
  {
   "cell_type": "code",
   "execution_count": 28,
   "metadata": {},
   "outputs": [
    {
     "name": "stdout",
     "output_type": "stream",
     "text": [
      "Me\n"
     ]
    }
   ],
   "source": [
    "class Animal:\n",
    "    \n",
    "    @staticmethod\n",
    "    def method():\n",
    "        print(\"Me\")\n",
    "        \n",
    "Animal.method()"
   ]
  }
 ],
 "metadata": {
  "kernelspec": {
   "display_name": "Python 3",
   "language": "python",
   "name": "python3"
  },
  "language_info": {
   "codemirror_mode": {
    "name": "ipython",
    "version": 3
   },
   "file_extension": ".py",
   "mimetype": "text/x-python",
   "name": "python",
   "nbconvert_exporter": "python",
   "pygments_lexer": "ipython3",
   "version": "3.7.1"
  }
 },
 "nbformat": 4,
 "nbformat_minor": 2
}
