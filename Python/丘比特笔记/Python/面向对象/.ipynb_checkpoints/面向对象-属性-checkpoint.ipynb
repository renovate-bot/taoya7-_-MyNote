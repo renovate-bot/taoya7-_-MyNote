{
 "cells": [
  {
   "cell_type": "markdown",
   "metadata": {},
   "source": [
    "# 面向对象编程(OOP)"
   ]
  },
  {
   "cell_type": "markdown",
   "metadata": {},
   "source": [
    "#### 定义类\n",
    "\n",
    "```python\n",
    "class 类名:\n",
    "    pass\n",
    "```"
   ]
  },
  {
   "cell_type": "code",
   "execution_count": 3,
   "metadata": {},
   "outputs": [],
   "source": [
    "class Person:\n",
    "  pass"
   ]
  },
  {
   "cell_type": "markdown",
   "metadata": {},
   "source": [
    "#### 根据类创建对象"
   ]
  },
  {
   "cell_type": "code",
   "execution_count": 8,
   "metadata": {},
   "outputs": [
    {
     "name": "stdout",
     "output_type": "stream",
     "text": [
      "<class '__main__.Person'>\n",
      "<class '__main__.Person'>\n",
      "Person\n"
     ]
    }
   ],
   "source": [
    "class Person:\n",
    "    pass\n",
    "\n",
    "p = Person()\n",
    "print(type(p))\n",
    "\n",
    "print(p.__class__)\n",
    "print(Person.__name__) "
   ]
  },
  {
   "cell_type": "markdown",
   "metadata": {},
   "source": [
    "![](imgs/1.png)"
   ]
  },
  {
   "cell_type": "markdown",
   "metadata": {},
   "source": [
    "## 属性\n",
    "\n",
    "- 对象属性\n",
    "\n",
    "- 类属性"
   ]
  },
  {
   "cell_type": "markdown",
   "metadata": {},
   "source": [
    "## 对象属性\n",
    "#### 添加属性"
   ]
  },
  {
   "cell_type": "code",
   "execution_count": 15,
   "metadata": {},
   "outputs": [
    {
     "name": "stdout",
     "output_type": "stream",
     "text": [
      "{'name': '张三', 'age': 18}\n"
     ]
    }
   ],
   "source": [
    "# 定义一个类\n",
    "class Person():\n",
    "    pass\n",
    "\n",
    "# 根据一个类创建一个对象\n",
    "p = Person()\n",
    "\n",
    "# 给类增加属性\n",
    "p.name = \"张三\"\n",
    "p.age = 18\n",
    "\n",
    "# 查看类中的所有属性\n",
    "print(p.__dict__)"
   ]
  },
  {
   "cell_type": "markdown",
   "metadata": {},
   "source": [
    "#### 修改属性"
   ]
  },
  {
   "cell_type": "code",
   "execution_count": 20,
   "metadata": {},
   "outputs": [
    {
     "name": "stdout",
     "output_type": "stream",
     "text": [
      "18 140732887315824\n",
      "19 140732887315856\n"
     ]
    }
   ],
   "source": [
    "class Person:\n",
    "    pass\n",
    "p = Person()\n",
    "\n",
    "p.age = 18\n",
    "print(p.age, id(p.age))\n",
    "\n",
    "p.age = 19\n",
    "print(p.age, id(p.age))"
   ]
  },
  {
   "cell_type": "code",
   "execution_count": 23,
   "metadata": {},
   "outputs": [
    {
     "name": "stdout",
     "output_type": "stream",
     "text": [
      "['Dog', 'Cat'] 2486452433224\n",
      "['Dog', 'Cat', 'Tiger'] 2486452433224\n"
     ]
    }
   ],
   "source": [
    "class Animal:\n",
    "    pass\n",
    "\n",
    "a = Animal()\n",
    "a.pets = [\"Dog\", \"Cat\"]\n",
    "print(a.pets, id(a.pets))\n",
    "\n",
    "\n",
    "a.pets.append(\"Tiger\")\n",
    "print(a.pets, id(a.pets))"
   ]
  },
  {
   "cell_type": "markdown",
   "metadata": {},
   "source": [
    "#### 删除属性"
   ]
  },
  {
   "cell_type": "code",
   "execution_count": 30,
   "metadata": {
    "scrolled": true
   },
   "outputs": [
    {
     "name": "stdout",
     "output_type": "stream",
     "text": [
      "张三\n",
      "{}\n"
     ]
    }
   ],
   "source": [
    "class Person:\n",
    "    pass\n",
    "\n",
    "p = Person()\n",
    "p.name = \"张三\"\n",
    "print(p.name)\n",
    "\n",
    "del p.name    #删除\n",
    "print(p.__dict__)"
   ]
  },
  {
   "cell_type": "markdown",
   "metadata": {},
   "source": [
    "## 类属性\n",
    "#### 如何要一个类拥有属性"
   ]
  },
  {
   "cell_type": "code",
   "execution_count": 35,
   "metadata": {
    "scrolled": true
   },
   "outputs": [
    {
     "name": "stdout",
     "output_type": "stream",
     "text": [
      "{'__module__': '__main__', '__dict__': <attribute '__dict__' of 'Person' objects>, '__weakref__': <attribute '__weakref__' of 'Person' objects>, '__doc__': None, 'name': '张三', 'age': 18}\n"
     ]
    }
   ],
   "source": [
    "class Person:\n",
    "    pass\n",
    "\n",
    "Person.name = \"张三\"\n",
    "Person.age = 18\n",
    "\n",
    "print(Person.__dict__)\n"
   ]
  },
  {
   "cell_type": "markdown",
   "metadata": {},
   "source": [
    "#### 查询类中的属性\n",
    "\n",
    "通过对象访问类属性\n",
    "\n",
    "Python对象的属性查找机制：优先到对象自身去查找属性，找到则结束；如果没有找到，则按\"_ _class_ _\"找到对象对应的类然后到类里面查找"
   ]
  },
  {
   "cell_type": "code",
   "execution_count": 36,
   "metadata": {
    "scrolled": true
   },
   "outputs": [
    {
     "name": "stdout",
     "output_type": "stream",
     "text": [
      "{'__module__': '__main__', '__dict__': <attribute '__dict__' of 'Person' objects>, '__weakref__': <attribute '__weakref__' of 'Person' objects>, '__doc__': None, 'name': '张三', 'age': 18}\n",
      "张三\n",
      "18\n"
     ]
    }
   ],
   "source": [
    "class Person:\n",
    "    pass\n",
    "\n",
    "Person.name = \"张三\"\n",
    "Person.age = 18\n",
    "\n",
    "print(Person.__dict__)\n",
    "\n",
    "# 创建对象\n",
    "p = Person()\n",
    "\n",
    "print(p.name)\n",
    "print(p.age)"
   ]
  },
  {
   "cell_type": "code",
   "execution_count": 38,
   "metadata": {},
   "outputs": [
    {
     "name": "stdout",
     "output_type": "stream",
     "text": [
      "男\n",
      "男\n"
     ]
    }
   ],
   "source": [
    "class Person:\n",
    "    pass\n",
    "\n",
    "p = Person() #创建对象\n",
    "p.sex = \"男\"\n",
    "print(p.sex)\n",
    "\n",
    "Person.sex = \"女\"\n",
    "print(p.sex)\n"
   ]
  },
  {
   "cell_type": "markdown",
   "metadata": {},
   "source": [
    "#### 修改属性"
   ]
  },
  {
   "cell_type": "code",
   "execution_count": 39,
   "metadata": {},
   "outputs": [
    {
     "name": "stdout",
     "output_type": "stream",
     "text": [
      "19 18\n"
     ]
    }
   ],
   "source": [
    "class Person:\n",
    "    name = \"张三\"\n",
    "    age = 18\n",
    "p = Person()  #创建对象\n",
    "p.age = 19\n",
    "\n",
    "print(p.age,  Person.age)"
   ]
  },
  {
   "cell_type": "markdown",
   "metadata": {},
   "source": [
    "![](imgs/2.png)"
   ]
  },
  {
   "cell_type": "markdown",
   "metadata": {},
   "source": [
    "#### 删除属性\n",
    "\n",
    "- 注意不可以对象通过属性来删除类属性"
   ]
  },
  {
   "cell_type": "code",
   "execution_count": 41,
   "metadata": {},
   "outputs": [],
   "source": [
    "class Person:\n",
    "    name = \"张三\"\n",
    "    age = 18\n",
    "p = Person()  #创建对象\n",
    "\n",
    "\n",
    "del Person.age\n",
    "#print(Person.age)  #报错\n",
    "\n",
    "# del p.age   # 不可以这样操作"
   ]
  },
  {
   "cell_type": "markdown",
   "metadata": {},
   "source": [
    "#### 属性的内存存储\n",
    "\n",
    "- 对象属性"
   ]
  },
  {
   "cell_type": "code",
   "execution_count": 49,
   "metadata": {},
   "outputs": [
    {
     "name": "stdout",
     "output_type": "stream",
     "text": [
      "{'name': '张三', 'age': 19}\n",
      "{'name': '张三', 'age': 20}\n",
      "{'name': '张三', 'age': 21}\n"
     ]
    }
   ],
   "source": [
    "class Person:\n",
    "    pass\n",
    "\n",
    "p = Person()\n",
    "p.name = \"张三\"\n",
    "p.age = 19\n",
    "\n",
    "print(p.__dict__)\n",
    "\n",
    "# 修改方式一\n",
    "p.age = 20\n",
    "print(p.__dict__)\n",
    "\n",
    "# 修改方式二\n",
    "p.__dict__[\"age\"] = 21\n",
    "print(p.__dict__)"
   ]
  },
  {
   "cell_type": "markdown",
   "metadata": {},
   "source": [
    "![](imgs/3.png)"
   ]
  },
  {
   "cell_type": "markdown",
   "metadata": {},
   "source": [
    "- 类属性"
   ]
  },
  {
   "cell_type": "code",
   "execution_count": 52,
   "metadata": {},
   "outputs": [
    {
     "name": "stdout",
     "output_type": "stream",
     "text": [
      "{'__module__': '__main__', 'name': '张三', 'age': 18, '__dict__': <attribute '__dict__' of 'Person' objects>, '__weakref__': <attribute '__weakref__' of 'Person' objects>, '__doc__': None}\n",
      "{'__module__': '__main__', 'name': '张三', 'age': 19, '__dict__': <attribute '__dict__' of 'Person' objects>, '__weakref__': <attribute '__weakref__' of 'Person' objects>, '__doc__': None}\n"
     ]
    }
   ],
   "source": [
    "class Person:\n",
    "    name = \"张三\"\n",
    "    age = 18\n",
    "\n",
    "print(Person.__dict__)\n",
    "\n",
    "# 修改\n",
    "#Person.__dict__['age'] = 18  # 没有权限\n",
    "\n",
    "# 修改\n",
    "Person.age = 19\n",
    "print(Person.__dict__)\n"
   ]
  },
  {
   "cell_type": "markdown",
   "metadata": {},
   "source": [
    "![](imgs/4.png)"
   ]
  },
  {
   "cell_type": "markdown",
   "metadata": {},
   "source": [
    "#### 高级"
   ]
  },
  {
   "cell_type": "code",
   "execution_count": 5,
   "metadata": {},
   "outputs": [
    {
     "name": "stdout",
     "output_type": "stream",
     "text": [
      "{'name': '占山', 'age': 18}\n",
      "{'a': 'a', 'b': 'b'}\n"
     ]
    }
   ],
   "source": [
    "class Person:\n",
    "    pass\n",
    "\n",
    "\n",
    "# 对象1\n",
    "p1 = Person()\n",
    "p1.name = \"占山\"\n",
    "p1.age = 18\n",
    "print(p1.__dict__)\n",
    "\n",
    "# 对象2\n",
    "p2 = Person()\n",
    "p2.a = \"a\"\n",
    "p2.b = \"b\"\n",
    "print(p2.__dict__)\n",
    "\n"
   ]
  },
  {
   "cell_type": "code",
   "execution_count": 8,
   "metadata": {},
   "outputs": [
    {
     "name": "stdout",
     "output_type": "stream",
     "text": [
      "张三\n"
     ]
    }
   ],
   "source": [
    "# 限制属性\n",
    "\n",
    "class Person:\n",
    "    __slots__ = [\"name\", \"age\"]\n",
    "    pass\n",
    "\n",
    "p = Person()\n",
    "#p.a = 1  # 会报错\n",
    "p.name = \"张三\"\n",
    "print(p.name)"
   ]
  },
  {
   "cell_type": "markdown",
   "metadata": {},
   "source": [
    "## 属性相关补充\n",
    "\n",
    "- 私有化属性\n",
    "- 只读属性\n",
    "- 内置特殊属性"
   ]
  },
  {
   "cell_type": "code",
   "execution_count": null,
   "metadata": {},
   "outputs": [],
   "source": [
    "class Person:\n",
    "    "
   ]
  }
 ],
 "metadata": {
  "kernelspec": {
   "display_name": "Python 3",
   "language": "python",
   "name": "python3"
  },
  "language_info": {
   "codemirror_mode": {
    "name": "ipython",
    "version": 3
   },
   "file_extension": ".py",
   "mimetype": "text/x-python",
   "name": "python",
   "nbconvert_exporter": "python",
   "pygments_lexer": "ipython3",
   "version": "3.7.1"
  }
 },
 "nbformat": 4,
 "nbformat_minor": 2
}
