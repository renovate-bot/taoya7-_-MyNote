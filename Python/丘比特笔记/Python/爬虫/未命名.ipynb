{
 "cells": [
  {
   "cell_type": "markdown",
   "metadata": {},
   "source": [
    "# BeautifulSoup\n",
    "\n",
    "**安装**\n",
    "\n",
    "`BeautifulSoup`和`lxml`"
   ]
  },
  {
   "cell_type": "markdown",
   "metadata": {},
   "source": [
    "**基本用法**"
   ]
  },
  {
   "cell_type": "code",
   "execution_count": 5,
   "metadata": {},
   "outputs": [
    {
     "name": "stdout",
     "output_type": "stream",
     "text": [
      "<!DOCTYPE html>\n",
      "<html>\n",
      " <head>\n",
      "  <title>\n",
      "   Beautiful\n",
      "  </title>\n",
      " </head>\n",
      " <body>\n",
      "  <div>\n",
      "   <p>\n",
      "    段落\n",
      "   </p>\n",
      "   <h1>\n",
      "    标题\n",
      "   </h1>\n",
      "  </div>\n",
      " </body>\n",
      "</html>\n",
      "\n",
      "<title>Beautiful</title>\n",
      "Beautiful\n"
     ]
    }
   ],
   "source": [
    "html = \"\"\"\n",
    "<!DOCTYPE html>\n",
    "<html>\n",
    "<head>\n",
    "    <title>Beautiful</title>\n",
    "</head>\n",
    "<body>\n",
    "    <div>\n",
    "        <p>段落</p>\n",
    "        <h1>标题</h1>\n",
    "    </div>\n",
    "</body>\n",
    "</html>\n",
    "\"\"\"\n",
    "\n",
    "from bs4 import BeautifulSoup\n",
    "soup = BeautifulSoup(html, 'lxml') #对象初始化\n",
    "\n",
    "print(soup.prettify()) #以标准的缩进格式输出\n",
    "print(soup.title)\n",
    "print(soup.title.string) #打印title节点的内容"
   ]
  },
  {
   "cell_type": "markdown",
   "metadata": {},
   "source": [
    "- 声明变量html，为一个HTML字符串\n",
    "- 完成BeautifulSoup对象的初始化 然后赋值给soup变量\n",
    "- soup各个方法的属性解析HTML代码"
   ]
  },
  {
   "cell_type": "markdown",
   "metadata": {},
   "source": [
    "## 一.节点选择器\n",
    "- 选择元素\n",
    "- 提取信息\n",
    "- 关联选择\n",
    "\n",
    "**选择元素**"
   ]
  },
  {
   "cell_type": "code",
   "execution_count": 11,
   "metadata": {},
   "outputs": [
    {
     "name": "stdout",
     "output_type": "stream",
     "text": [
      "None\n",
      "<ul class=\"box-ul\">\n",
      "<li>1</li>\n",
      "<li>2</li>\n",
      "<li>3</li>\n",
      "<li>4</li>\n",
      "<li>5</li>\n",
      "</ul>\n"
     ]
    }
   ],
   "source": [
    "html = \"\"\"\n",
    "<div class=\"box\">\n",
    "    <ul class=\"box-ul\">\n",
    "        <li>1</li>\n",
    "        <li>2</li>\n",
    "        <li>3</li>\n",
    "        <li>4</li>\n",
    "        <li>5</li>\n",
    "    </ul>\n",
    "</div>\n",
    "\"\"\"\n",
    "\n",
    "from bs4 import BeautifulSoup\n",
    "soup = BeautifulSoup(html, 'lxml')\n",
    "\n",
    "print(soup.title)\n",
    "print(soup.ul)  #则会返回ul下的内容"
   ]
  },
  {
   "cell_type": "markdown",
   "metadata": {},
   "source": [
    "**提取信息**\n",
    "\n",
    "- 获取标签名称\n",
    "- 获取标签属性\n",
    "- 获取标签内容"
   ]
  },
  {
   "cell_type": "code",
   "execution_count": 14,
   "metadata": {},
   "outputs": [
    {
     "name": "stdout",
     "output_type": "stream",
     "text": [
      "<li>1</li>\n",
      "li\n"
     ]
    }
   ],
   "source": [
    "html = \"\"\"\n",
    "<div class=\"box\">\n",
    "    <ul class=\"box-ul\">\n",
    "        <li>1</li>\n",
    "        <li>2</li>\n",
    "        <li>3</li>\n",
    "        <li>4</li>\n",
    "        <li>5</li>\n",
    "    </ul>\n",
    "</div>\n",
    "\"\"\"\n",
    "\n",
    "soup = BeautifulSoup(html,'lxml')\n",
    "print(soup.li) #则会返回li下的内容\n",
    "print(soup.li.name) \n",
    "\n",
    "# 元素的名字"
   ]
  },
  {
   "cell_type": "code",
   "execution_count": 16,
   "metadata": {},
   "outputs": [
    {
     "name": "stdout",
     "output_type": "stream",
     "text": [
      "{'class': ['box']}\n"
     ]
    }
   ],
   "source": [
    "html = \"\"\"\n",
    "<div class=\"box\">\n",
    "    <ul class=\"box-ul\">\n",
    "        <li>1</li>\n",
    "        <li>2</li>\n",
    "        <li>3</li>\n",
    "        <li>4</li>\n",
    "        <li>5</li>\n",
    "    </ul>\n",
    "</div>\n",
    "\"\"\"\n",
    "\n",
    "soup = BeautifulSoup(html,'lxml')\n",
    "print(soup.div.attrs)  # {'class': ['box']}"
   ]
  },
  {
   "cell_type": "code",
   "execution_count": 18,
   "metadata": {},
   "outputs": [
    {
     "name": "stdout",
     "output_type": "stream",
     "text": [
      "\n",
      "1\n",
      "2\n",
      "3\n",
      "4\n",
      "5\n",
      "\n"
     ]
    }
   ],
   "source": [
    "html = \"\"\"\n",
    "<div class=\"box\">\n",
    "    <ul class=\"box-ul\">\n",
    "        <li>1</li>\n",
    "        <li>2</li>\n",
    "        <li>3</li>\n",
    "        <li>4</li>\n",
    "        <li>5</li>\n",
    "    </ul>\n",
    "</div>\n",
    "\"\"\"\n",
    "\n",
    "soup = BeautifulSoup(html,'lxml')\n",
    "print(soup.ul.text) #ul 下的文字"
   ]
  },
  {
   "cell_type": "markdown",
   "metadata": {},
   "source": [
    "**关联查询**\n",
    "\n",
    "- 子节点和子孙节点 ` contents/children`\n",
    "\n",
    "- 父节点和祖先节点 `parent` `parents`\n",
    "\n",
    "- 兄弟节点\n",
    "    - `next_siblings` # 所有后面的兄弟节点\n",
    "    - `previous_sibling` # 上一个兄弟节点\n",
    "    - `previous_siblings`\n",
    "    - `next_sibling` # 下一个兄弟节点"
   ]
  },
  {
   "cell_type": "code",
   "execution_count": 20,
   "metadata": {},
   "outputs": [
    {
     "name": "stdout",
     "output_type": "stream",
     "text": [
      "['\\n', <center><h1>BOOT</h1></center>, '\\n', <p>这是一段文字</p>, '\\n', <a href=\"#\">百度</a>, '\\n', <span>标记</span>, '\\n']\n"
     ]
    }
   ],
   "source": [
    "html = \"\"\"\n",
    "<div class=\"box\">\n",
    "    <center><h1>BOOT</h1></center>\n",
    "    <P>这是一段文字</P>\n",
    "    <a href=\"#\">百度</a>\n",
    "    <span>标记</span>\n",
    "</div>\n",
    "\"\"\"\n",
    "\n",
    "soup = BeautifulSoup(html,'lxml')\n",
    "print(soup.div.contents)  # 获取div下的子节点"
   ]
  },
  {
   "cell_type": "code",
   "execution_count": 24,
   "metadata": {},
   "outputs": [
    {
     "name": "stdout",
     "output_type": "stream",
     "text": [
      "<list_iterator object at 0x000001F31F609160>\n"
     ]
    }
   ],
   "source": [
    "html = \"\"\"\n",
    "<div class=\"box\">\n",
    "    <center><h1>BOOT</h1></center>\n",
    "    <P>这是一段文字</P>\n",
    "    <a href=\"#\">百度</a>\n",
    "    <span>标记</span>\n",
    "</div>\n",
    "\"\"\"\n",
    "\n",
    "soup = BeautifulSoup(html,'lxml')\n",
    "print(soup.div.children)  # 获取div下的子孙节点  生成器类型\n",
    "\n",
    "# For循环 \n"
   ]
  }
 ],
 "metadata": {
  "kernelspec": {
   "display_name": "Python 3",
   "language": "python",
   "name": "python3"
  },
  "language_info": {
   "codemirror_mode": {
    "name": "ipython",
    "version": 3
   },
   "file_extension": ".py",
   "mimetype": "text/x-python",
   "name": "python",
   "nbconvert_exporter": "python",
   "pygments_lexer": "ipython3",
   "version": "3.7.1"
  }
 },
 "nbformat": 4,
 "nbformat_minor": 2
}
