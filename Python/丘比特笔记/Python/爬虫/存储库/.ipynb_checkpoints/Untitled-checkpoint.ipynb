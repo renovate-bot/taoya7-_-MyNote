{
 "cells": [
  {
   "cell_type": "markdown",
   "metadata": {},
   "source": [
    "# 关系型数据库存储\n",
    "\n",
    "\n",
    "- 关系型数据库有多种\n",
    "  - MySQL\n",
    "  - Oracle\n",
    "  - SQL Server\n",
    "  - DB2\n",
    "  "
   ]
  },
  {
   "cell_type": "markdown",
   "metadata": {},
   "source": [
    "### MySQL的存储"
   ]
  },
  {
   "cell_type": "markdown",
   "metadata": {},
   "source": [
    "### 连接数据库\n",
    "\n",
    "**解释**\n",
    "- 这里通过P有MySQL的connect()方法声明一个MySQL链接对象db。需要传入运行的host|用户名|密码|端口\n",
    "- 调用cursor()方法获得MySQL的操作游标，利用游标来执行SQL语句。\n",
    "- execute()方法执行了两条语句\n",
    "\n",
    "- fetchone()方法 获得M有SQL的当前版本\n",
    "  - 创建一个数据库名叫spiders\n",
    "  - 默认编码是utf8"
   ]
  },
  {
   "cell_type": "code",
   "execution_count": 3,
   "metadata": {},
   "outputs": [
    {
     "name": "stdout",
     "output_type": "stream",
     "text": [
      "Database version ('5.7.14',)\n"
     ]
    }
   ],
   "source": [
    "import pymysql\n",
    "\n",
    "db = pymysql.connect(host='localhost',user='root', password='', port=3306)\n",
    "\n",
    "cursor = db.cursor()\n",
    "cursor.execute(\"SELECT VERSION()\")\n",
    "data = cursor.fetchone()\n",
    "print('Database version', data)\n",
    "cursor.execute(\"CREATE DATABASE spiders DEFAULT CHARACTER SET utf8\")\n",
    "db.close()"
   ]
  },
  {
   "cell_type": "markdown",
   "metadata": {},
   "source": [
    "### 创建表"
   ]
  },
  {
   "cell_type": "code",
   "execution_count": 4,
   "metadata": {},
   "outputs": [],
   "source": [
    "import pymysql\n",
    "\n",
    "db = pymysql.connect(host='localhost', user = 'root', password='', port=3306, db='spiders')\n",
    "cursor = db.cursor()\n",
    "sql = \"\"\"\n",
    "    create table if not exists students(\n",
    "        id varchar(255) not null,\n",
    "        name varchar(255) not null,\n",
    "        age int not null,\n",
    "        primary key(id)\n",
    "    )\n",
    "\"\"\"\n",
    "\n",
    "cursor.execute(sql)\n",
    "db.close()"
   ]
  },
  {
   "cell_type": "markdown",
   "metadata": {},
   "source": [
    "### 插入数据\n"
   ]
  },
  {
   "cell_type": "code",
   "execution_count": 14,
   "metadata": {},
   "outputs": [
    {
     "name": "stdout",
     "output_type": "stream",
     "text": [
      "失败\n"
     ]
    }
   ],
   "source": [
    "import pymysql\n",
    "\n",
    "#插入的数据\n",
    "id = \"20180101\"\n",
    "user = \"Tashi\"\n",
    "age = 20\n",
    "\n",
    "\n",
    "# 连接数据库\n",
    "db = pymysql.connect(host='localhost', user = 'root', password='', port=3306, db='spiders')\n",
    "\n",
    "cursor = db.cursor()\n",
    "sql = \"INSERT INTO students(id,name,age) values(%s,%s,%s)\"\n",
    "# 添加异常添加数据\n",
    "try:\n",
    "    cursor.execute(sql,(id,user,age))\n",
    "    db.commit()\n",
    "except:\n",
    "    print(\"失败\")\n",
    "    db.rollback()\n",
    "db.close()"
   ]
  },
  {
   "cell_type": "markdown",
   "metadata": {},
   "source": [
    "### 更新数据"
   ]
  },
  {
   "cell_type": "code",
   "execution_count": 18,
   "metadata": {},
   "outputs": [],
   "source": [
    "import pymysql\n",
    "\n",
    "\n",
    "# 连接数据库\n",
    "db = pymysql.connect(host='localhost', user = 'root', password='', port=3306, db='spiders')\n",
    "\n",
    "cursor = db.cursor()\n",
    "sql = \"update students set age=%s where name=%s\"\n",
    "# 添加异常添加数据\n",
    "try:\n",
    "    cursor.execute(sql,(666,\"Tashi\"))\n",
    "    db.commit()\n",
    "except:\n",
    "    print(\"失败\")\n",
    "    db.rollback()\n",
    "db.close()"
   ]
  }
 ],
 "metadata": {
  "kernelspec": {
   "display_name": "Python 3",
   "language": "python",
   "name": "python3"
  },
  "language_info": {
   "codemirror_mode": {
    "name": "ipython",
    "version": 3
   },
   "file_extension": ".py",
   "mimetype": "text/x-python",
   "name": "python",
   "nbconvert_exporter": "python",
   "pygments_lexer": "ipython3",
   "version": "3.7.1"
  }
 },
 "nbformat": 4,
 "nbformat_minor": 2
}
