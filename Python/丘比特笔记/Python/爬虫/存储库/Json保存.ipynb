{
 "cells": [
  {
   "cell_type": "markdown",
   "metadata": {},
   "source": [
    "#### loads()方法将字符串转换JSON对象"
   ]
  },
  {
   "cell_type": "code",
   "execution_count": 7,
   "metadata": {
    "scrolled": true
   },
   "outputs": [
    {
     "name": "stdout",
     "output_type": "stream",
     "text": [
      "<class 'str'>\n",
      "[{'name': 'bob', 'age': 18, 'bron': '199-10-18'}, {'name': 'Tashi', 'age': 20, 'bron': '1998-10-04'}]\n",
      "<class 'list'>\n",
      "<class 'dict'>\n",
      "{'name': 'bob', 'age': 18, 'bron': '199-10-18'}\n",
      "{'name': 'Tashi', 'age': 20, 'bron': '1998-10-04'}\n"
     ]
    }
   ],
   "source": [
    "import json\n",
    "\n",
    "str = \"\"\"\n",
    "\n",
    "[\n",
    "    {\n",
    "        \"name\":\"bob\",\n",
    "        \"age\":18,\n",
    "        \"bron\":\"199-10-18\"\n",
    "    },\n",
    "    {\n",
    "        \"name\":\"Tashi\",\n",
    "        \"age\":20,\n",
    "        \"bron\":\"1998-10-04\"\n",
    "    }\n",
    "]\n",
    "\n",
    "\n",
    "\"\"\"\n",
    "\n",
    "# 转换之前\n",
    "print(type(str))\n",
    "# 转换之后\n",
    "data = json.loads(str)\n",
    "print(data)\n",
    "print(type(data))\n",
    "\n",
    "\n",
    "# 转换之后\n",
    "print(type(data[0]))  \n",
    "\n",
    "\n",
    "for i in data:\n",
    "    print(i)"
   ]
  },
  {
   "cell_type": "markdown",
   "metadata": {},
   "source": [
    "#### 输出JSON\n",
    "\n",
    "用dumps()方法将JSON对象转换为字符串"
   ]
  },
  {
   "cell_type": "code",
   "execution_count": 9,
   "metadata": {},
   "outputs": [],
   "source": [
    "import json\n",
    "\n",
    "data = [\n",
    "    {\n",
    "         \"name\":\"bob\",\n",
    "         \"age\":18,\n",
    "         \"bron\":\"199-10-18\"\n",
    "    }\n",
    "]\n",
    "\n",
    "with open('data.json', 'w') as f:\n",
    "   #f.write(json.dumps(data))    \n",
    "    f.write(json.dumps(data, indent=2))"
   ]
  },
  {
   "cell_type": "code",
   "execution_count": 16,
   "metadata": {},
   "outputs": [],
   "source": [
    "\"\"\"处理中文格式的问题\"\"\"\n",
    "\n",
    "\n",
    "import json\n",
    "\n",
    "data = [\n",
    "    {\n",
    "         \"name\":\"林啊\",\n",
    "         \"age\":18,\n",
    "         \"bron\":\"199-10-18\"\n",
    "    }\n",
    "]\n",
    "\n",
    "with open('data.json', 'w') as f:\n",
    "    #f.write(json.dumps(data,indent=2))  # Unicode编码\n",
    "    f.write(json.dumps(data, indent=2, ensure_ascii=False))"
   ]
  }
 ],
 "metadata": {
  "kernelspec": {
   "display_name": "Python 3",
   "language": "python",
   "name": "python3"
  },
  "language_info": {
   "codemirror_mode": {
    "name": "ipython",
    "version": 3
   },
   "file_extension": ".py",
   "mimetype": "text/x-python",
   "name": "python",
   "nbconvert_exporter": "python",
   "pygments_lexer": "ipython3",
   "version": "3.7.1"
  }
 },
 "nbformat": 4,
 "nbformat_minor": 2
}
