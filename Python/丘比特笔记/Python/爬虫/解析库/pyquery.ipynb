{
 "cells": [
  {
   "cell_type": "markdown",
   "metadata": {},
   "source": [
    "### 字符串初始化"
   ]
  },
  {
   "cell_type": "code",
   "execution_count": 1,
   "metadata": {},
   "outputs": [
    {
     "name": "stdout",
     "output_type": "stream",
     "text": [
      "<li>1</li>\n",
      "      <li>2</li>\n",
      "      <li>3</li>\n",
      "      <li>4</li>\n",
      "    \n"
     ]
    }
   ],
   "source": [
    "\n",
    "\n",
    "html = \"\"\"\n",
    "  <div class=\"box\">\n",
    "    <ul>\n",
    "      <li>1</li>\n",
    "      <li>2</li>\n",
    "      <li>3</li>\n",
    "      <li>4</li>\n",
    "    </ul>\n",
    "  </div>\n",
    "\n",
    "  <div class=\"container\">\n",
    "    <p>这是一段文字</p>\n",
    "    <span>很酷！</span>\n",
    "  </div>\n",
    "\"\"\"\n",
    "\n",
    "from pyquery import PyQuery as pq\n",
    "\n",
    "doc = pq(html)\n",
    "print(doc('li'))"
   ]
  },
  {
   "cell_type": "markdown",
   "metadata": {},
   "source": [
    "**注释**\n",
    "\n",
    "首先引入PyQuery对象 取名pq。将HTML字符串当作参数传递给PyQuery类，就完成了初始化"
   ]
  },
  {
   "cell_type": "markdown",
   "metadata": {},
   "source": [
    "### URL初始化"
   ]
  },
  {
   "cell_type": "code",
   "execution_count": 3,
   "metadata": {},
   "outputs": [
    {
     "name": "stdout",
     "output_type": "stream",
     "text": [
      "<title>Tashi-丛林深处有书和黄金屋</title>\n",
      "    \n"
     ]
    }
   ],
   "source": [
    "\n",
    "from pyquery import PyQuery as pq\n",
    "\n",
    "doc = pq(url=\"http://www.itaolaity.com\")\n",
    "\n",
    "print(doc('title'))\n"
   ]
  },
  {
   "cell_type": "markdown",
   "metadata": {},
   "source": [
    "### 文件初始化"
   ]
  },
  {
   "cell_type": "code",
   "execution_count": null,
   "metadata": {},
   "outputs": [],
   "source": [
    "from pyquery import PyQuery as pq\n",
    "\n",
    "doc = pq(filename='Demo.html')\n",
    "print(doc('title'))"
   ]
  },
  {
   "cell_type": "markdown",
   "metadata": {},
   "source": [
    "# CSS选择器"
   ]
  },
  {
   "cell_type": "markdown",
   "metadata": {},
   "source": [
    "### 基本用法"
   ]
  },
  {
   "cell_type": "code",
   "execution_count": 5,
   "metadata": {},
   "outputs": [
    {
     "name": "stdout",
     "output_type": "stream",
     "text": [
      "<li>1</li>\n",
      "      <li>2</li>\n",
      "      <li>3</li>\n",
      "      <li>4</li>\n",
      "    \n"
     ]
    }
   ],
   "source": [
    "html = \"\"\"\n",
    "  <div class=\"box\">\n",
    "    <ul>\n",
    "      <li>1</li>\n",
    "      <li>2</li>\n",
    "      <li>3</li>\n",
    "      <li>4</li>\n",
    "    </ul>\n",
    "  </div>\n",
    "\n",
    "  <div class=\"container\">\n",
    "    <p>这是一段文字</p>\n",
    "    <span>很酷！</span>\n",
    "  </div>\n",
    "\"\"\"\n",
    "\n",
    "from pyquery import PyQuery as pq\n",
    "\n",
    "doc = pq(html)\n",
    "print(doc(\".box li\"))  # 选取CLSS为box的节点  然后再选取内部的li节点"
   ]
  },
  {
   "cell_type": "markdown",
   "metadata": {},
   "source": [
    "### 查找结点"
   ]
  },
  {
   "cell_type": "markdown",
   "metadata": {},
   "source": [
    "- **子节点** \n",
    "\n",
    "> find() 查找范围是节点的所有子孙节点\n",
    "\n",
    "\n",
    "> children() 方法查找子节点"
   ]
  },
  {
   "cell_type": "code",
   "execution_count": 31,
   "metadata": {},
   "outputs": [
    {
     "name": "stdout",
     "output_type": "stream",
     "text": [
      "<div class=\"init2\">\n",
      "      <p>Tashi</p>\n",
      "      <h1>丛林深处有书和黄金屋</h1>\n",
      "    </div>\n",
      "    \n",
      "    \n"
     ]
    }
   ],
   "source": [
    "html = \"\"\"\n",
    "\n",
    "\n",
    "  <div class=\"box\">\n",
    "    <div class=\"init1\"></div>\n",
    "    \n",
    "    <div class=\"init2\">\n",
    "      <p>Tashi</p>\n",
    "      <h1>丛林深处有书和黄金屋</h1>\n",
    "    </div>\n",
    "    \n",
    "    <div class=\"init3\"></div>\n",
    "  </div>\n",
    "\n",
    "\n",
    "\"\"\"\n",
    "\n",
    "from pyquery import PyQuery as pq\n",
    "doc = pq(html) # 初始化操作\n",
    "\n",
    "# print(doc('.box'))\n",
    "          \n",
    "# print(type(doc('.box')))  # <class 'pyquery.pyquery.PyQuery'>\n",
    "\n",
    "f = doc('.box')\n",
    "s = f.find('.init2') \n",
    "print(s)\n",
    "\n",
    "\n",
    "## 注释 先找到父节点box 然后通过父节点的find()方法 找子节点为class=\"init2\"的"
   ]
  },
  {
   "cell_type": "code",
   "execution_count": 37,
   "metadata": {},
   "outputs": [
    {
     "name": "stdout",
     "output_type": "stream",
     "text": [
      "\n"
     ]
    }
   ],
   "source": [
    "html = \"\"\"\n",
    "\n",
    "\n",
    "  <div class=\"box\">\n",
    "    <div class=\"init1\"></div>\n",
    "    \n",
    "    <div class=\"init2\">\n",
    "      <p>Tashi</p>\n",
    "      <h1 id=\"sign\">丛林深处有书和黄金屋</h1>\n",
    "    </div>\n",
    "    \n",
    "    <div class=\"init3\"></div>\n",
    "  </div>\n",
    "\n",
    "\n",
    "\"\"\"\n",
    "\n",
    "from pyquery import PyQuery as pq\n",
    "\n",
    "doc = pq(html)\n",
    "\n",
    "f = doc('.box')\n",
    "s = f.find('#sign')  # 子孙节点都可以找到\n",
    "s = f.children('#sign') # 找不到 只可以寻找子节点\n",
    "print(s)"
   ]
  },
  {
   "cell_type": "markdown",
   "metadata": {},
   "source": [
    "- **父节点** \n",
    "\n",
    "> parent()  父节点\n",
    "\n",
    "\n",
    "> parents() 祖先节点"
   ]
  },
  {
   "cell_type": "code",
   "execution_count": 43,
   "metadata": {
    "scrolled": true
   },
   "outputs": [
    {
     "name": "stdout",
     "output_type": "stream",
     "text": [
      "<p>Tashi</p>\n",
      "      \n",
      "<div class=\"init2\">\n",
      "      <p>Tashi</p>\n",
      "      <h1 id=\"sign\">丛林深处有书和黄金屋</h1>\n",
      "    </div>\n",
      "    \n",
      "    \n",
      "<div class=\"init2\">\n",
      "      <p>Tashi</p>\n",
      "      <h1 id=\"sign\">丛林深处有书和黄金屋</h1>\n",
      "    </div>\n",
      "    \n",
      "    \n"
     ]
    }
   ],
   "source": [
    "html = \"\"\"\n",
    "\n",
    "\n",
    "  <div class=\"box\">\n",
    "    <div class=\"init1\"></div>\n",
    "    \n",
    "    <div class=\"init2\">\n",
    "      <p>Tashi</p>\n",
    "      <h1 id=\"sign\">丛林深处有书和黄金屋</h1>\n",
    "    </div>\n",
    "    \n",
    "    <div class=\"init3\"></div>\n",
    "  </div>\n",
    "\n",
    "\n",
    "\"\"\"\n",
    "\n",
    "from pyquery import PyQuery  as pq\n",
    "doc = pq(html)\n",
    "\n",
    "print(doc('p')) # <p>Tashi</p>\n",
    "\n",
    "print(doc('p').parent())  # 直接父节点\n",
    "\n",
    "\n",
    "print(doc('p').parents('.init2'))  # 祖先节点"
   ]
  },
  {
   "cell_type": "markdown",
   "metadata": {},
   "source": [
    "- **兄弟节点**\n",
    "\n",
    "> siblings()\n"
   ]
  },
  {
   "cell_type": "markdown",
   "metadata": {},
   "source": [
    "## 遍历"
   ]
  },
  {
   "cell_type": "code",
   "execution_count": 50,
   "metadata": {},
   "outputs": [
    {
     "name": "stdout",
     "output_type": "stream",
     "text": [
      "<class 'pyquery.pyquery.PyQuery'>\n",
      "<li><a href=\"#\">百度</a></li>\n",
      "      <li><a href=\"#\">淘宝</a></li>\n",
      "      <li><a href=\"#\">丘比特</a></li>\n",
      "      <li><a href=\"#\">Python</a></li>\n",
      "      <li><a href=\"#\">Tashi</a></li>\n",
      "    <li>Gulu</li>\n",
      "        <li>Heng</li>\n",
      "      \n",
      "<class 'generator'>\n",
      "<li><a href=\"#\">百度</a></li>\n",
      "      \n",
      "<li><a href=\"#\">淘宝</a></li>\n",
      "      \n",
      "<li><a href=\"#\">丘比特</a></li>\n",
      "      \n",
      "<li><a href=\"#\">Python</a></li>\n",
      "      \n",
      "<li><a href=\"#\">Tashi</a></li>\n",
      "    \n",
      "<li>Gulu</li>\n",
      "        \n",
      "<li>Heng</li>\n",
      "      \n"
     ]
    }
   ],
   "source": [
    "html = \"\"\"\n",
    "\n",
    "  <div class=\"box\">\n",
    "    <ul class=\"nav1\">\n",
    "      <li><a href=\"#\">百度</a></li>\n",
    "      <li><a href=\"#\">淘宝</a></li>\n",
    "      <li><a href=\"#\">丘比特</a></li>\n",
    "      <li><a href=\"#\">Python</a></li>\n",
    "      <li><a href=\"#\">Tashi</a></li>\n",
    "    </ul>\n",
    "\n",
    "    <ul class=\"nav2\">\n",
    "      <ol>\n",
    "        <li>Gulu</li>\n",
    "        <li>Heng</li>\n",
    "      </ol>\n",
    "    </ul>\n",
    "  </div>\n",
    "\n",
    "\n",
    "\"\"\"\n",
    "\n",
    "from pyquery import PyQuery as pq\n",
    "\n",
    "doc = pq(html)\n",
    "\n",
    "lis = doc('li')\n",
    "print(type(lis))\n",
    "print(lis)\n",
    "\n",
    "\n",
    "lis = doc('li').items()\n",
    "print(type(lis))\n",
    "for li in lis:\n",
    "    print(li)"
   ]
  },
  {
   "cell_type": "markdown",
   "metadata": {},
   "source": [
    "## 获取信息"
   ]
  },
  {
   "cell_type": "markdown",
   "metadata": {},
   "source": [
    "### 获取属性"
   ]
  },
  {
   "cell_type": "code",
   "execution_count": 61,
   "metadata": {},
   "outputs": [
    {
     "name": "stdout",
     "output_type": "stream",
     "text": [
      "htt://www.baidu.com\n"
     ]
    }
   ],
   "source": [
    "html = \"\"\"\n",
    "\n",
    "  <div class=\"box\">\n",
    "    <ul class=\"nav1\">\n",
    "      <li><a href=\"htt://www.baidu.com\">百度</a></li>\n",
    "      <li><a href=\"#\">淘宝</a></li>\n",
    "      <li><a href=\"#\">丘比特</a></li>\n",
    "      <li><a href=\"#\">Python</a></li>\n",
    "      <li><a href=\"http://itaolaity.com\">Tashi</a></li>\n",
    "    </ul>\n",
    "\n",
    "    <ul class=\"nav2\">\n",
    "      <ol>\n",
    "        <li>Gulu</li>\n",
    "        <li>Heng</li>\n",
    "      </ol>\n",
    "    </ul>\n",
    "  </div>\n",
    "\n",
    "\n",
    "\"\"\"\n",
    "\n",
    "\n",
    "from pyquery import PyQuery as pq\n",
    "\n",
    "doc = pq(html)\n",
    "\n",
    "a = doc('li a')\n",
    "print(a.attr('href'))  #只可以获取信息的第一个属性"
   ]
  },
  {
   "cell_type": "markdown",
   "metadata": {},
   "source": [
    "## 获取文本\n"
   ]
  },
  {
   "cell_type": "code",
   "execution_count": 64,
   "metadata": {},
   "outputs": [
    {
     "name": "stdout",
     "output_type": "stream",
     "text": [
      "<a href=\"htt://www.baidu.com\">百度</a><a href=\"#\">淘宝</a><a href=\"#\">丘比特</a><a href=\"#\">Python</a><a href=\"http://itaolaity.com\">Tashi</a>\n",
      "百度 淘宝 丘比特 Python Tashi\n"
     ]
    }
   ],
   "source": [
    "html = \"\"\"\n",
    "\n",
    "  <div class=\"box\">\n",
    "    <ul class=\"nav1\">\n",
    "      <li><a href=\"htt://www.baidu.com\">百度</a></li>\n",
    "      <li><a href=\"#\">淘宝</a></li>\n",
    "      <li><a href=\"#\">丘比特</a></li>\n",
    "      <li><a href=\"#\">Python</a></li>\n",
    "      <li><a href=\"http://itaolaity.com\">Tashi</a></li>\n",
    "    </ul>\n",
    "\n",
    "    <ul class=\"nav2\">\n",
    "      <ol>\n",
    "        <li>Gulu</li>\n",
    "        <li>Heng</li>\n",
    "      </ol>\n",
    "    </ul>\n",
    "  </div>\n",
    "\n",
    "\n",
    "\"\"\"\n",
    "\n",
    "from pyquery import PyQuery as pq\n",
    "\n",
    "doc = pq(html) # 初始化\n",
    "\n",
    "a = doc('li a')\n",
    "print(a)  # 找到所有的a\n",
    "\n",
    "print(a.text())   # 会找到所有的a标签的 文本"
   ]
  },
  {
   "cell_type": "markdown",
   "metadata": {},
   "source": [
    "## 节点操作\n"
   ]
  },
  {
   "cell_type": "markdown",
   "metadata": {},
   "source": [
    "### 增加节点和移除节点\n",
    "\n",
    "- addClass()\n",
    "\n",
    "- removeClass()"
   ]
  },
  {
   "cell_type": "code",
   "execution_count": 71,
   "metadata": {
    "scrolled": true
   },
   "outputs": [
    {
     "name": "stdout",
     "output_type": "stream",
     "text": [
      "<div><div class=\"box1\"/>\n",
      "  <div class=\"box2\"/>\n",
      "\n",
      "</div><div class=\"box1\"/>\n",
      "  <div class=\"box2\"/>\n",
      "\n",
      "\n",
      "<div class=\"haha\"><div class=\"box1 haha\"/>\n",
      "  <div class=\"box2 haha\"/>\n",
      "\n",
      "</div><div class=\"box1 haha\"/>\n",
      "  <div class=\"box2 haha\"/>\n",
      "\n",
      "\n",
      "<div class=\"haha\"><div class=\"haha\"/>\n",
      "  <div class=\"box2 haha\"/>\n",
      "\n",
      "</div><div class=\"haha\"/>\n",
      "  <div class=\"box2 haha\"/>\n",
      "\n",
      "\n"
     ]
    }
   ],
   "source": [
    "html = \"\"\"\n",
    "\n",
    "  <div class=\"box1\"></div>\n",
    "  <div class=\"box2\"></div>\n",
    "\n",
    "\"\"\"\n",
    "\n",
    "from pyquery import PyQuery as pq\n",
    "\n",
    "doc = pq(html) # 初始化\n",
    "\n",
    "box = doc('div')\n",
    "print(box)\n",
    "\n",
    "box.addClass('haha')\n",
    "print(box)\n",
    "\n",
    "box.removeClass('box1')\n",
    "print(box)"
   ]
  },
  {
   "cell_type": "markdown",
   "metadata": {},
   "source": [
    "- attr()\n",
    "- text()\n",
    "- html()"
   ]
  },
  {
   "cell_type": "code",
   "execution_count": 75,
   "metadata": {},
   "outputs": [
    {
     "name": "stdout",
     "output_type": "stream",
     "text": [
      "<section/>\n",
      "<section class=\"artO\"/>\n",
      "<section class=\"artO\">这是一个文章</section>\n",
      "<section class=\"artO\"><span>真酷</span></section>\n"
     ]
    }
   ],
   "source": [
    "html = \"\"\"\n",
    "    \n",
    "    <section></section>\n",
    "\n",
    "\"\"\"\n",
    "\n",
    "\n",
    "from pyquery import PyQuery as pq\n",
    "\n",
    "doc = pq(html) # 初始化\n",
    "\n",
    "art = doc('section')\n",
    "print(art)  # 寻找\n",
    "\n",
    "art.attr('class', 'artO')\n",
    "print(art)  # 增加一个class\n",
    "\n",
    "art.text('这是一个文章')\n",
    "print(art)\n",
    "\n",
    "art.html(\"<span>真酷</span>\")\n",
    "print(art)"
   ]
  },
  {
   "cell_type": "markdown",
   "metadata": {},
   "source": [
    "## 伪类选择器"
   ]
  },
  {
   "cell_type": "code",
   "execution_count": 77,
   "metadata": {},
   "outputs": [
    {
     "name": "stdout",
     "output_type": "stream",
     "text": [
      "<li>1</li>\n",
      "      \n",
      "<li>5</li>\n",
      "    \n",
      "<li>3</li>\n",
      "      \n"
     ]
    }
   ],
   "source": [
    "html = \"\"\"\n",
    "\n",
    "  <div class=\"box\">\n",
    "    <ul>\n",
    "      <li>1</li>\n",
    "      <li>2</li>\n",
    "      <li>3</li>\n",
    "      <li>4</li>\n",
    "      <li>5</li>\n",
    "    </ul>\n",
    "  </div>\n",
    "\n",
    "\"\"\"\n",
    "\n",
    "from pyquery import PyQuery as pq\n",
    "\n",
    "doc = pq(html) #初始化\n",
    "\n",
    "li = doc('li:first-child')\n",
    "print(li)\n",
    "\n",
    "li = doc('li:last-child')\n",
    "print(li)\n",
    "\n",
    "li = doc('li:nth-child(3)')\n",
    "print(li)"
   ]
  }
 ],
 "metadata": {
  "kernelspec": {
   "display_name": "Python 3",
   "language": "python",
   "name": "python3"
  },
  "language_info": {
   "codemirror_mode": {
    "name": "ipython",
    "version": 3
   },
   "file_extension": ".py",
   "mimetype": "text/x-python",
   "name": "python",
   "nbconvert_exporter": "python",
   "pygments_lexer": "ipython3",
   "version": "3.7.1"
  }
 },
 "nbformat": 4,
 "nbformat_minor": 2
}
