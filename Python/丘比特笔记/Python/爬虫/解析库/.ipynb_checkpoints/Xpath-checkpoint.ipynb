{
 "cells": [
  {
   "cell_type": "markdown",
   "metadata": {},
   "source": [
    "# Xpath XML Path Language\n",
    "\n",
    "> XPath常用规则\n",
    "\n",
    "```\n",
    "nodename          选取此节点的所有子节点\n",
    "/                 从当前节点选取直接子节点\n",
    "//                从当前节点选取子孙节点\n",
    ".                 选取当前节点\n",
    "..                选取当前节点的父节点\n",
    "@                 选取属性\n",
    "```"
   ]
  }
 ],
 "metadata": {
  "kernelspec": {
   "display_name": "Python 3",
   "language": "python",
   "name": "python3"
  },
  "language_info": {
   "codemirror_mode": {
    "name": "ipython",
    "version": 3
   },
   "file_extension": ".py",
   "mimetype": "text/x-python",
   "name": "python",
   "nbconvert_exporter": "python",
   "pygments_lexer": "ipython3",
   "version": "3.7.1"
  }
 },
 "nbformat": 4,
 "nbformat_minor": 2
}
