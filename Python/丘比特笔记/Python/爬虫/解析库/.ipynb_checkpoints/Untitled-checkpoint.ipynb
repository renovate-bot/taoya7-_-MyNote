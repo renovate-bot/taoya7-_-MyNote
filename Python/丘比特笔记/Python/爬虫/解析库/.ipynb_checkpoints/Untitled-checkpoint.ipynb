{
 "cells": [
  {
   "cell_type": "markdown",
   "metadata": {},
   "source": [
    "# Xpath XML Path Language\n",
    "\n",
    "> XPath常用规则\n",
    "\n",
    "```\n",
    "nodename          选取此节点的所有子节点\n",
    "/                 从当前节点选取直接子节点\n",
    "//                从当前节点选取子孙节点\n",
    ".                 选取当前节点\n",
    "..                选取当前节点的父节点\n",
    "@                 选取属性\n",
    "```"
   ]
  },
  {
   "cell_type": "code",
   "execution_count": 8,
   "metadata": {},
   "outputs": [
    {
     "name": "stdout",
     "output_type": "stream",
     "text": [
      "<Element html at 0x1ef2fff7fc8>\n",
      "<html><body><div class=\"box\">\n",
      "        <div class=\"in-box1\"/>\n",
      "        <div class=\"in-box2\"/>\n",
      "        <div class=\"in-box3\"/>\n",
      "        <div class=\"in-box4\"/>\n",
      "        <p>&#36825;&#26159;&#19968;&#27573;&#25991;&#23383;</p>\n",
      "    </div>\n",
      "</body></html>\n"
     ]
    }
   ],
   "source": [
    "from lxml import etree\n",
    "\n",
    "data = \"\"\"\n",
    "    <div class=\"box\">\n",
    "        <div class=\"in-box1\"></div>\n",
    "        <div class=\"in-box2\"></div>\n",
    "        <div class=\"in-box3\"></div>\n",
    "        <div class=\"in-box4\"></div>\n",
    "        <p>这是一段文字</p>\n",
    "    </div>\n",
    "\"\"\"\n",
    "\n",
    "html = etree.HTML(data)\n",
    "print(html)\n",
    "\n",
    "result = etree.tostring(html)  #etree.tostring(html)则是补全里html的基本写法\n",
    "print(result.decode('utf-8'))\n"
   ]
  }
 ],
 "metadata": {
  "kernelspec": {
   "display_name": "Python 3",
   "language": "python",
   "name": "python3"
  },
  "language_info": {
   "codemirror_mode": {
    "name": "ipython",
    "version": 3
   },
   "file_extension": ".py",
   "mimetype": "text/x-python",
   "name": "python",
   "nbconvert_exporter": "python",
   "pygments_lexer": "ipython3",
   "version": "3.7.1"
  }
 },
 "nbformat": 4,
 "nbformat_minor": 2
}
