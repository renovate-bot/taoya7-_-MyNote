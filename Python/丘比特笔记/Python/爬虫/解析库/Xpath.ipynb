{
 "cells": [
  {
   "cell_type": "code",
   "execution_count": null,
   "metadata": {},
   "outputs": [],
   "source": []
  },
  {
   "cell_type": "code",
   "execution_count": 2,
   "metadata": {},
   "outputs": [
    {
     "name": "stdout",
     "output_type": "stream",
     "text": [
      "<html><body><div class=\"box\">\n",
      "        <center><h1>BOOT</h1></center>\n",
      "        <p>&#36825;&#26159;&#19968;&#27573;&#25991;&#23383;</p>\n",
      "        <a href=\"#\">&#30334;&#24230;</a>\n",
      "        <span>&#26631;&#35760;</span>\n",
      "    </div>\n",
      "\n",
      "</body></html>\n"
     ]
    }
   ],
   "source": [
    "from lxml import etree\n",
    "\n",
    "text = \"\"\"\n",
    "    \n",
    "    <div class=\"box\">\n",
    "        <center><h1>BOOT</h1></center>\n",
    "        <P>这是一段文字</P>\n",
    "        <a href=\"#\">百度</a>\n",
    "        <span>标记</span>\n",
    "    </div>\n",
    "\n",
    "\"\"\"\n",
    "\n",
    "html = etree.HTML(text)\n",
    "result = etree.tostring(html)\n",
    "print(result.decode(\"utf-8\"))\n"
   ]
  }
 ],
 "metadata": {
  "kernelspec": {
   "display_name": "Python 3",
   "language": "python",
   "name": "python3"
  },
  "language_info": {
   "codemirror_mode": {
    "name": "ipython",
    "version": 3
   },
   "file_extension": ".py",
   "mimetype": "text/x-python",
   "name": "python",
   "nbconvert_exporter": "python",
   "pygments_lexer": "ipython3",
   "version": "3.7.1"
  }
 },
 "nbformat": 4,
 "nbformat_minor": 2
}
